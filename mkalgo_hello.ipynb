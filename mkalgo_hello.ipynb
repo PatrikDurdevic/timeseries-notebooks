{
  "nbformat": 4,
  "nbformat_minor": 0,
  "metadata": {
    "colab": {
      "name": "mkalgo.ipynb",
      "provenance": [],
      "include_colab_link": true
    },
    "kernelspec": {
      "name": "python3",
      "display_name": "Python 3"
    }
  },
  "cells": [
    {
      "cell_type": "markdown",
      "metadata": {
        "id": "view-in-github",
        "colab_type": "text"
      },
      "source": [
        "<a href=\"https://colab.research.google.com/github/microprediction/timeseries-notebooks/blob/main/mkalgo.ipynb\" target=\"_parent\"><img src=\"https://colab.research.google.com/assets/colab-badge.svg\" alt=\"Open In Colab\"/></a>"
      ]
    },
    {
      "cell_type": "code",
      "metadata": {
        "id": "JNZsFh-09jjV"
      },
      "source": [
        "!pip install --upgrade git+https://github.com/microprediction/mkalgo"
      ],
      "execution_count": null,
      "outputs": []
    },
    {
      "cell_type": "code",
      "metadata": {
        "id": "p5YFaeb4BSqy"
      },
      "source": [
        "from mkalgo.mk import mk_eab\n",
        "from mkalgo.data import hospital\n",
        "from pprint import pprint\n",
        "import numpy as np "
      ],
      "execution_count": 13,
      "outputs": []
    },
    {
      "cell_type": "code",
      "metadata": {
        "colab": {
          "base_uri": "https://localhost:8080/"
        },
        "id": "83dBi1KxD9UV",
        "outputId": "0a1d94f0-0483-4c27-feb2-9c2d8181afe2"
      },
      "source": [
        "obj = mk_eab(l=14, metric='euclidean')\n",
        "x = hospital(500)\n",
        "x_more = x + [ xt+np.random.randn()*0.001 for xt in x[115:125]]\n",
        "motif_a, motif_b = obj.search(x_more)\n",
        "pprint(motif_a)\n",
        "pprint(motif_b)"
      ],
      "execution_count": 36,
      "outputs": [
        {
          "output_type": "stream",
          "text": [
            "{'begin': 112,\n",
            " 'end': 126,\n",
            " 'motif': [58.0,\n",
            "           60.0,\n",
            "           60.0,\n",
            "           50.0,\n",
            "           50.0,\n",
            "           42.0,\n",
            "           42.0,\n",
            "           40.0,\n",
            "           40.0,\n",
            "           36.0,\n",
            "           36.0,\n",
            "           42.0,\n",
            "           42.0,\n",
            "           39.0]}\n",
            "{'begin': 196,\n",
            " 'end': 210,\n",
            " 'motif': [53.0,\n",
            "           60.0,\n",
            "           60.0,\n",
            "           50.0,\n",
            "           50.0,\n",
            "           43.0,\n",
            "           43.0,\n",
            "           38.0,\n",
            "           38.0,\n",
            "           32.0,\n",
            "           32.0,\n",
            "           30.0,\n",
            "           30.0,\n",
            "           32.0]}\n"
          ],
          "name": "stdout"
        }
      ]
    },
    {
      "cell_type": "code",
      "metadata": {
        "id": "X528T2ejH8Xm",
        "outputId": "30e9f147-32ae-45a9-9dae-cc8f75a4def4",
        "colab": {
          "base_uri": "https://localhost:8080/"
        }
      },
      "source": [
        "y = [ x+1*np.random.randn() for x in hospital()+hospital()+list(np.random.randn(10))]\n",
        "obj = mk_eab(l=5, metric='euclidean')\n",
        "motif_a, motif_b = obj.search(y)\n",
        "pprint(motif_a)\n",
        "pprint(motif_b)"
      ],
      "execution_count": 40,
      "outputs": [
        {
          "output_type": "stream",
          "text": [
            "{'begin': 1665,\n",
            " 'end': 1670,\n",
            " 'motif': [76.81040146436479,\n",
            "           63.577838197958876,\n",
            "           64.86426353829704,\n",
            "           72.9885136562362,\n",
            "           72.35549395058483]}\n",
            "{'begin': 1395,\n",
            " 'end': 1400,\n",
            " 'motif': [77.42469914393892,\n",
            "           63.72452784915074,\n",
            "           64.53922837932765,\n",
            "           72.91259888083734,\n",
            "           72.48716472445555]}\n"
          ],
          "name": "stdout"
        }
      ]
    },
    {
      "cell_type": "code",
      "metadata": {
        "id": "Iwnvg23aItHt",
        "outputId": "3e4e56d9-13cb-46f0-9b26-4b239ac80f69",
        "colab": {
          "base_uri": "https://localhost:8080/"
        }
      },
      "source": [
        ""
      ],
      "execution_count": 28,
      "outputs": [
        {
          "output_type": "execute_result",
          "data": {
            "text/plain": [
              "2002"
            ]
          },
          "metadata": {
            "tags": []
          },
          "execution_count": 28
        }
      ]
    }
  ]
}

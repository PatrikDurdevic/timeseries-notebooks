{
  "nbformat": 4,
  "nbformat_minor": 0,
  "metadata": {
    "colab": {
      "name": "pydlm_hello.ipynb",
      "provenance": [],
      "authorship_tag": "ABX9TyO3V9manzl3cpna8KicHH56",
      "include_colab_link": true
    },
    "kernelspec": {
      "name": "python3",
      "display_name": "Python 3"
    }
  },
  "cells": [
    {
      "cell_type": "markdown",
      "metadata": {
        "id": "view-in-github",
        "colab_type": "text"
      },
      "source": [
        "<a href=\"https://colab.research.google.com/github/microprediction/timeseries-notebooks/blob/main/pydlm_hello.ipynb\" target=\"_parent\"><img src=\"https://colab.research.google.com/assets/colab-badge.svg\" alt=\"Open In Colab\"/></a>"
      ]
    },
    {
      "cell_type": "code",
      "metadata": {
        "id": "pxPf4jy3Omj_"
      },
      "source": [
        "!pip install pydlm"
      ],
      "execution_count": null,
      "outputs": []
    },
    {
      "cell_type": "code",
      "metadata": {
        "id": "-KgmO47lOr3S"
      },
      "source": [
        "!pip install microprediction"
      ],
      "execution_count": null,
      "outputs": []
    },
    {
      "cell_type": "markdown",
      "metadata": {
        "id": "p2bh6KxE88So"
      },
      "source": [
        "# Hello world example\n",
        "See https://www.microprediction.com/blog/popular-timeseries-packages for more packages"
      ]
    },
    {
      "cell_type": "code",
      "metadata": {
        "id": "DUhhIeHhOutZ"
      },
      "source": [
        "from microprediction import MicroReader\n",
        "mr = MicroReader()\n",
        "YS = mr.get_lagged_values(name='emojitracker-twitter-face_with_medical_mask.json')[:100]"
      ],
      "execution_count": 17,
      "outputs": []
    },
    {
      "cell_type": "code",
      "metadata": {
        "id": "ODDpGjVDPDwS",
        "colab": {
          "base_uri": "https://localhost:8080/"
        },
        "outputId": "10974d08-a477-4a6f-b2f0-2d066ba10f25"
      },
      "source": [
        "from pydlm import dlm, trend, seasonality\n",
        "def run(ys:[float])->[float]:\n",
        "     \"\"\" Compute list of priors for observations ys \"\"\"\n",
        "     model = dlm([],printInfo=False) + trend(1) + seasonality(24)\n",
        "     xs = [0] # First guess doesn't matter\n",
        "     for t,y in enumerate(ys[:-1]):\n",
        "        model.append([y])\n",
        "        model.fitForwardFilter()\n",
        "        x_mean,x_var = model.predict()\n",
        "        xs.append(x_mean[0,0])\n",
        "     return xs\n",
        "XS = run(YS)\n",
        "len(XS)\n"
      ],
      "execution_count": 18,
      "outputs": [
        {
          "output_type": "execute_result",
          "data": {
            "text/plain": [
              "100"
            ]
          },
          "metadata": {
            "tags": []
          },
          "execution_count": 18
        }
      ]
    },
    {
      "cell_type": "code",
      "metadata": {
        "colab": {
          "base_uri": "https://localhost:8080/",
          "height": 282
        },
        "id": "UsQalSXqS6a4",
        "outputId": "f35b4b55-d509-4951-b981-c7115cff4f71"
      },
      "source": [
        "import matplotlib.pyplot as plt\n",
        "plt.plot(YS[75:85],'*b')\n",
        "plt.plot(XS[75:85],'g')\n",
        "plt.legend(['data','prior'])"
      ],
      "execution_count": 19,
      "outputs": [
        {
          "output_type": "execute_result",
          "data": {
            "text/plain": [
              "<matplotlib.legend.Legend at 0x7f2c29422470>"
            ]
          },
          "metadata": {
            "tags": []
          },
          "execution_count": 19
        },
        {
          "output_type": "display_data",
          "data": {
            "image/png": "[encoded data removed]",
            "text/plain": [
              "<Figure size 432x288 with 1 Axes>"
            ]
          },
          "metadata": {
            "tags": [],
            "needs_background": "light"
          }
        }
      ]
    }
  ]
}
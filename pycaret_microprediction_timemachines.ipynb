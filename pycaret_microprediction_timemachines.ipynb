{
  "nbformat": 4,
  "nbformat_minor": 0,
  "metadata": {
    "colab": {
      "name": "pycaret_microprediction_timemachines.ipynb",
      "provenance": [],
      "authorship_tag": "ABX9TyNg5az2pobANWGtZIZygp/z",
      "include_colab_link": true
    },
    "kernelspec": {
      "name": "python3",
      "display_name": "Python 3"
    },
    "language_info": {
      "name": "python"
    },
    "widgets": {
      "application/vnd.jupyter.widget-state+json": {
        "81545811a49a47f8b4908165d63c8329": {
          "model_module": "@jupyter-widgets/controls",
          "model_name": "IntProgressModel",
          "state": {
            "_view_name": "ProgressView",
            "style": "IPY_MODEL_3835fc43699b4ce6bab22a281b6722cf",
            "_dom_classes": [],
            "description": "Processing: ",
            "_model_name": "IntProgressModel",
            "bar_style": "",
            "max": 99,
            "_view_module": "@jupyter-widgets/controls",
            "_model_module_version": "1.5.0",
            "value": 99,
            "_view_count": null,
            "_view_module_version": "1.5.0",
            "orientation": "horizontal",
            "min": 0,
            "description_tooltip": null,
            "_model_module": "@jupyter-widgets/controls",
            "layout": "IPY_MODEL_70c062e7d3fd4847b18d505b93dc2d47"
          }
        },
        "3835fc43699b4ce6bab22a281b6722cf": {
          "model_module": "@jupyter-widgets/controls",
          "model_name": "ProgressStyleModel",
          "state": {
            "_view_name": "StyleView",
            "_model_name": "ProgressStyleModel",
            "description_width": "",
            "_view_module": "@jupyter-widgets/base",
            "_model_module_version": "1.5.0",
            "_view_count": null,
            "_view_module_version": "1.2.0",
            "bar_color": null,
            "_model_module": "@jupyter-widgets/controls"
          }
        },
        "70c062e7d3fd4847b18d505b93dc2d47": {
          "model_module": "@jupyter-widgets/base",
          "model_name": "LayoutModel",
          "state": {
            "_view_name": "LayoutView",
            "grid_template_rows": null,
            "right": null,
            "justify_content": null,
            "_view_module": "@jupyter-widgets/base",
            "overflow": null,
            "_model_module_version": "1.2.0",
            "_view_count": null,
            "flex_flow": null,
            "width": null,
            "min_width": null,
            "border": null,
            "align_items": null,
            "bottom": null,
            "_model_module": "@jupyter-widgets/base",
            "top": null,
            "grid_column": null,
            "overflow_y": null,
            "overflow_x": null,
            "grid_auto_flow": null,
            "grid_area": null,
            "grid_template_columns": null,
            "flex": null,
            "_model_name": "LayoutModel",
            "justify_items": null,
            "grid_row": null,
            "max_height": null,
            "align_content": null,
            "visibility": null,
            "align_self": null,
            "height": null,
            "min_height": null,
            "padding": null,
            "grid_auto_rows": null,
            "grid_gap": null,
            "max_width": null,
            "order": null,
            "_view_module_version": "1.2.0",
            "grid_template_areas": null,
            "object_position": null,
            "object_fit": null,
            "grid_auto_columns": null,
            "margin": null,
            "display": null,
            "left": null
          }
        },
        "a6abecc185d64be48bf06be1506bb48d": {
          "model_module": "@jupyter-widgets/controls",
          "model_name": "IntProgressModel",
          "state": {
            "_view_name": "ProgressView",
            "style": "IPY_MODEL_93f898bf55ae430ba9b42ef39d481252",
            "_dom_classes": [],
            "description": "Processing: ",
            "_model_name": "IntProgressModel",
            "bar_style": "",
            "max": 99,
            "_view_module": "@jupyter-widgets/controls",
            "_model_module_version": "1.5.0",
            "value": 99,
            "_view_count": null,
            "_view_module_version": "1.5.0",
            "orientation": "horizontal",
            "min": 0,
            "description_tooltip": null,
            "_model_module": "@jupyter-widgets/controls",
            "layout": "IPY_MODEL_e05394abd67e42178067324371931c40"
          }
        },
        "93f898bf55ae430ba9b42ef39d481252": {
          "model_module": "@jupyter-widgets/controls",
          "model_name": "ProgressStyleModel",
          "state": {
            "_view_name": "StyleView",
            "_model_name": "ProgressStyleModel",
            "description_width": "",
            "_view_module": "@jupyter-widgets/base",
            "_model_module_version": "1.5.0",
            "_view_count": null,
            "_view_module_version": "1.2.0",
            "bar_color": null,
            "_model_module": "@jupyter-widgets/controls"
          }
        },
        "e05394abd67e42178067324371931c40": {
          "model_module": "@jupyter-widgets/base",
          "model_name": "LayoutModel",
          "state": {
            "_view_name": "LayoutView",
            "grid_template_rows": null,
            "right": null,
            "justify_content": null,
            "_view_module": "@jupyter-widgets/base",
            "overflow": null,
            "_model_module_version": "1.2.0",
            "_view_count": null,
            "flex_flow": null,
            "width": null,
            "min_width": null,
            "border": null,
            "align_items": null,
            "bottom": null,
            "_model_module": "@jupyter-widgets/base",
            "top": null,
            "grid_column": null,
            "overflow_y": null,
            "overflow_x": null,
            "grid_auto_flow": null,
            "grid_area": null,
            "grid_template_columns": null,
            "flex": null,
            "_model_name": "LayoutModel",
            "justify_items": null,
            "grid_row": null,
            "max_height": null,
            "align_content": null,
            "visibility": null,
            "align_self": null,
            "height": null,
            "min_height": null,
            "padding": null,
            "grid_auto_rows": null,
            "grid_gap": null,
            "max_width": null,
            "order": null,
            "_view_module_version": "1.2.0",
            "grid_template_areas": null,
            "object_position": null,
            "object_fit": null,
            "grid_auto_columns": null,
            "margin": null,
            "display": null,
            "left": null
          }
        }
      }
    }
  },
  "cells": [
    {
      "cell_type": "markdown",
      "metadata": {
        "id": "view-in-github",
        "colab_type": "text"
      },
      "source": [
        "<a href=\"https://colab.research.google.com/github/microprediction/timeseries-notebooks/blob/main/pycaret_microprediction_timemachines.ipynb\" target=\"_parent\"><img src=\"https://colab.research.google.com/assets/colab-badge.svg\" alt=\"Open In Colab\"/></a>"
      ]
    },
    {
      "cell_type": "code",
      "metadata": {
        "id": "9wb8F5n1v8qT"
      },
      "source": [
        "!pip install pycaret[full]\n",
        "!pip install --upgrade statsmodels\n",
        "!pip install microprediction\n",
        "!pip install timemachines"
      ],
      "execution_count": null,
      "outputs": []
    },
    {
      "cell_type": "markdown",
      "metadata": {
        "id": "gaQ8l9Pu1D7w"
      },
      "source": [
        "\n",
        "## Leveraging Time-Machines and PyCaret together\n",
        "This notebook demonstrates how you can use pycaret and timemachines packages together. We shall:\n",
        "\n",
        "*   Grab a live time series from microprediction\n",
        "*   Fit with pycaret\n",
        "*   Run some timemachines models\n",
        "*   Fit with pycaret again\n",
        "\n",
        "Yup, there's a chance of overfitting ! \n",
        "\n",
        "\n",
        "\n",
        "\n",
        "\n"
      ]
    },
    {
      "cell_type": "markdown",
      "metadata": {
        "id": "rX8RJIT2Cali"
      },
      "source": [
        "### 1. Retrieve recent history of a live time series from www.microprediction.org"
      ]
    },
    {
      "cell_type": "markdown",
      "metadata": {
        "id": "4a1bEXza1HxK"
      },
      "source": [
        "microprediction is \"live\" whereas pycaret is for \"offline\" analysis of time-series. Be aware:\n",
        "\n",
        "*   Time series are live, so each time you run this the data will be different\n",
        "*   Time series are returned as lagged values, so you need to reverse them for chronological ordering\n",
        "*   Time is measured in epoch seconds at microprediction\n",
        "\n",
        "A little loop to ensure the time series is long enough.\n",
        "\n"
      ]
    },
    {
      "cell_type": "code",
      "metadata": {
        "id": "rlsWzGLF0gn6"
      },
      "source": [
        "import microprediction\n",
        "from datetime import datetime, timedelta\n",
        "from microprediction import MicroReader\n",
        "import random\n",
        "import matplotlib.pyplot as plt\n",
        "import pandas as pd"
      ],
      "execution_count": 2,
      "outputs": []
    },
    {
      "cell_type": "code",
      "metadata": {
        "colab": {
          "base_uri": "https://localhost:8080/",
          "height": 299
        },
        "id": "C4XRXBuH0inu",
        "outputId": "1d88978e-a9f2-454b-cbe1-6f87ceeb8a5c"
      },
      "source": [
        "\n",
        "mr = MicroReader()\n",
        "all_streams = mr.get_stream_names()\n",
        "lagged_values = []\n",
        "while len(lagged_values)<900:\n",
        "  a_stream = random.choice(all_streams)\n",
        "  lagged_values, lagged_seconds = mr.get_lagged_values_and_times(a_stream)\n",
        "values = list(reversed(lagged_values))\n",
        "dt = [ datetime.fromtimestamp(s) for s in reversed(lagged_seconds)] # arbitrary offset\n",
        "plt.plot(dt,values)\n",
        "plt.title(a_stream)"
      ],
      "execution_count": 35,
      "outputs": [
        {
          "output_type": "execute_result",
          "data": {
            "text/plain": [
              "Text(0.5, 1.0, 'finance-futures-palladium-volume.json')"
            ]
          },
          "metadata": {
            "tags": []
          },
          "execution_count": 35
        },
        {
          "output_type": "display_data",
          "data": {
            "image/png": "[encoded data removed]",
            "text/plain": [
              "<Figure size 432x288 with 1 Axes>"
            ]
          },
          "metadata": {
            "tags": [],
            "needs_background": "light"
          }
        }
      ]
    },
    {
      "cell_type": "markdown",
      "metadata": {
        "id": "zKBZWUYP1Y__"
      },
      "source": [
        "### Use Py-caret to fit a univariate time-series model\n",
        "Add a few features \n"
      ]
    },
    {
      "cell_type": "code",
      "metadata": {
        "id": "qRQg2EEH0tf7"
      },
      "source": [
        "df = pd.DataFrame(columns=['Date','y'])\n",
        "df['date'] = dt\n",
        "df['y']=values\n",
        "df['dayofweek'] = df['date'].dt.dayofweek\n",
        "df['hour'] = df['date'].dt.hour\n",
        "num_lags = 10\n",
        "lags = range(1,num_lags)\n",
        "lag_names = [ 'y_'+str(lag) for lag in lags ]\n",
        "for lag, lag_name in zip(lags,lag_names):\n",
        "  df[lag_name] = df['y'].shift(lag)\n",
        "numerical_features = lag_names\n",
        "categorical_features =  ['dayofweek','hour']"
      ],
      "execution_count": 5,
      "outputs": []
    },
    {
      "cell_type": "markdown",
      "metadata": {
        "id": "uDiL-EUJC4bw"
      },
      "source": [
        "Then fit lots of models and compare ..."
      ]
    },
    {
      "cell_type": "code",
      "metadata": {
        "id": "j8muE1ED5sRs"
      },
      "source": [
        "from pycaret.regression import setup, compare_models, pull"
      ],
      "execution_count": 8,
      "outputs": []
    },
    {
      "cell_type": "code",
      "metadata": {
        "id": "tz59sxu35m4t"
      },
      "source": [
        "s = setup(df, target = 'y', train_size = 0.95,\n",
        "              data_split_shuffle = False, fold_strategy = 'timeseries', fold = 3,\n",
        "              ignore_features = ['date'],\n",
        "              numeric_features = numerical_features,\n",
        "              categorical_features = categorical_features,\n",
        "              silent = True, verbose = False, session_id = 123)"
      ],
      "execution_count": 9,
      "outputs": []
    },
    {
      "cell_type": "code",
      "metadata": {
        "colab": {
          "base_uri": "https://localhost:8080/",
          "height": 714,
          "referenced_widgets": [
            "81545811a49a47f8b4908165d63c8329",
            "3835fc43699b4ce6bab22a281b6722cf",
            "70c062e7d3fd4847b18d505b93dc2d47"
          ]
        },
        "id": "ICF707C_-GaM",
        "outputId": "bcbefdb7-58d7-48f7-cff8-e0b61dc4902e"
      },
      "source": [
        "top5 = compare_models(n_select = 5)"
      ],
      "execution_count": 13,
      "outputs": [
        {
          "output_type": "display_data",
          "data": {
            "text/html": [
              "<div>\n",
              "<style scoped>\n",
              "    .dataframe tbody tr th:only-of-type {\n",
              "        vertical-align: middle;\n",
              "    }\n",
              "\n",
              "    .dataframe tbody tr th {\n",
              "        vertical-align: top;\n",
              "    }\n",
              "\n",
              "    .dataframe thead th {\n",
              "        text-align: right;\n",
              "    }\n",
              "</style>\n",
              "<table border=\"1\" class=\"dataframe\">\n",
              "  <thead>\n",
              "    <tr style=\"text-align: right;\">\n",
              "      <th></th>\n",
              "      <th>Model</th>\n",
              "      <th>MAE</th>\n",
              "      <th>MSE</th>\n",
              "      <th>RMSE</th>\n",
              "      <th>R2</th>\n",
              "      <th>RMSLE</th>\n",
              "      <th>MAPE</th>\n",
              "      <th>TT (Sec)</th>\n",
              "    </tr>\n",
              "  </thead>\n",
              "  <tbody>\n",
              "    <tr>\n",
              "      <th>br</th>\n",
              "      <td>Bayesian Ridge</td>\n",
              "      <td>4.721000e+00</td>\n",
              "      <td>6.166230e+01</td>\n",
              "      <td>7.526900e+00</td>\n",
              "      <td>-2.500000e-03</td>\n",
              "      <td>1.3966</td>\n",
              "      <td>1.022600e+00</td>\n",
              "      <td>0.0200</td>\n",
              "    </tr>\n",
              "    <tr>\n",
              "      <th>llar</th>\n",
              "      <td>Lasso Least Angle Regression</td>\n",
              "      <td>4.709400e+00</td>\n",
              "      <td>6.160580e+01</td>\n",
              "      <td>7.525700e+00</td>\n",
              "      <td>-3.300000e-03</td>\n",
              "      <td>1.5339</td>\n",
              "      <td>9.985000e-01</td>\n",
              "      <td>0.0233</td>\n",
              "    </tr>\n",
              "    <tr>\n",
              "      <th>lasso</th>\n",
              "      <td>Lasso Regression</td>\n",
              "      <td>4.739300e+00</td>\n",
              "      <td>6.180690e+01</td>\n",
              "      <td>7.536900e+00</td>\n",
              "      <td>-5.700000e-03</td>\n",
              "      <td>1.3020</td>\n",
              "      <td>1.049100e+00</td>\n",
              "      <td>0.0267</td>\n",
              "    </tr>\n",
              "    <tr>\n",
              "      <th>en</th>\n",
              "      <td>Elastic Net</td>\n",
              "      <td>4.766200e+00</td>\n",
              "      <td>6.208360e+01</td>\n",
              "      <td>7.551500e+00</td>\n",
              "      <td>-8.800000e-03</td>\n",
              "      <td>1.2228</td>\n",
              "      <td>1.081000e+00</td>\n",
              "      <td>0.0200</td>\n",
              "    </tr>\n",
              "    <tr>\n",
              "      <th>ada</th>\n",
              "      <td>AdaBoost Regressor</td>\n",
              "      <td>5.055000e+00</td>\n",
              "      <td>6.838070e+01</td>\n",
              "      <td>7.974200e+00</td>\n",
              "      <td>-1.437000e-01</td>\n",
              "      <td>1.1281</td>\n",
              "      <td>1.401900e+00</td>\n",
              "      <td>0.1267</td>\n",
              "    </tr>\n",
              "    <tr>\n",
              "      <th>omp</th>\n",
              "      <td>Orthogonal Matching Pursuit</td>\n",
              "      <td>4.932800e+00</td>\n",
              "      <td>6.395490e+01</td>\n",
              "      <td>7.801100e+00</td>\n",
              "      <td>-1.453000e-01</td>\n",
              "      <td>1.2277</td>\n",
              "      <td>1.284000e+00</td>\n",
              "      <td>0.0200</td>\n",
              "    </tr>\n",
              "    <tr>\n",
              "      <th>knn</th>\n",
              "      <td>K Neighbors Regressor</td>\n",
              "      <td>5.037200e+00</td>\n",
              "      <td>6.826070e+01</td>\n",
              "      <td>8.008600e+00</td>\n",
              "      <td>-1.729000e-01</td>\n",
              "      <td>1.1054</td>\n",
              "      <td>1.318000e+00</td>\n",
              "      <td>0.0867</td>\n",
              "    </tr>\n",
              "    <tr>\n",
              "      <th>huber</th>\n",
              "      <td>Huber Regressor</td>\n",
              "      <td>5.253500e+00</td>\n",
              "      <td>7.232880e+01</td>\n",
              "      <td>8.155800e+00</td>\n",
              "      <td>-1.946000e-01</td>\n",
              "      <td>0.9905</td>\n",
              "      <td>1.567300e+00</td>\n",
              "      <td>0.0533</td>\n",
              "    </tr>\n",
              "    <tr>\n",
              "      <th>catboost</th>\n",
              "      <td>CatBoost Regressor</td>\n",
              "      <td>5.215800e+00</td>\n",
              "      <td>6.979860e+01</td>\n",
              "      <td>8.132100e+00</td>\n",
              "      <td>-2.304000e-01</td>\n",
              "      <td>1.0350</td>\n",
              "      <td>1.402500e+00</td>\n",
              "      <td>1.7633</td>\n",
              "    </tr>\n",
              "    <tr>\n",
              "      <th>lightgbm</th>\n",
              "      <td>Light Gradient Boosting Machine</td>\n",
              "      <td>5.432000e+00</td>\n",
              "      <td>7.281760e+01</td>\n",
              "      <td>8.325300e+00</td>\n",
              "      <td>-3.007000e-01</td>\n",
              "      <td>0.9841</td>\n",
              "      <td>1.707600e+00</td>\n",
              "      <td>0.0600</td>\n",
              "    </tr>\n",
              "    <tr>\n",
              "      <th>rf</th>\n",
              "      <td>Random Forest Regressor</td>\n",
              "      <td>5.385300e+00</td>\n",
              "      <td>7.550840e+01</td>\n",
              "      <td>8.504800e+00</td>\n",
              "      <td>-3.807000e-01</td>\n",
              "      <td>1.0823</td>\n",
              "      <td>1.518400e+00</td>\n",
              "      <td>0.8333</td>\n",
              "    </tr>\n",
              "    <tr>\n",
              "      <th>gbr</th>\n",
              "      <td>Gradient Boosting Regressor</td>\n",
              "      <td>5.403500e+00</td>\n",
              "      <td>7.637210e+01</td>\n",
              "      <td>8.609900e+00</td>\n",
              "      <td>-4.644000e-01</td>\n",
              "      <td>1.0969</td>\n",
              "      <td>1.636200e+00</td>\n",
              "      <td>0.1300</td>\n",
              "    </tr>\n",
              "    <tr>\n",
              "      <th>ridge</th>\n",
              "      <td>Ridge Regression</td>\n",
              "      <td>5.440500e+00</td>\n",
              "      <td>7.551220e+01</td>\n",
              "      <td>8.558500e+00</td>\n",
              "      <td>-4.798000e-01</td>\n",
              "      <td>0.9964</td>\n",
              "      <td>1.688500e+00</td>\n",
              "      <td>0.0200</td>\n",
              "    </tr>\n",
              "    <tr>\n",
              "      <th>et</th>\n",
              "      <td>Extra Trees Regressor</td>\n",
              "      <td>5.428000e+00</td>\n",
              "      <td>7.960190e+01</td>\n",
              "      <td>8.828400e+00</td>\n",
              "      <td>-5.866000e-01</td>\n",
              "      <td>1.0634</td>\n",
              "      <td>1.531700e+00</td>\n",
              "      <td>0.7033</td>\n",
              "    </tr>\n",
              "    <tr>\n",
              "      <th>xgboost</th>\n",
              "      <td>Extreme Gradient Boosting</td>\n",
              "      <td>5.785500e+00</td>\n",
              "      <td>8.797550e+01</td>\n",
              "      <td>9.201600e+00</td>\n",
              "      <td>-6.510000e-01</td>\n",
              "      <td>0.9975</td>\n",
              "      <td>1.845100e+00</td>\n",
              "      <td>1.0433</td>\n",
              "    </tr>\n",
              "    <tr>\n",
              "      <th>dt</th>\n",
              "      <td>Decision Tree Regressor</td>\n",
              "      <td>6.658900e+00</td>\n",
              "      <td>1.218470e+02</td>\n",
              "      <td>1.103200e+01</td>\n",
              "      <td>-1.838800e+00</td>\n",
              "      <td>0.9816</td>\n",
              "      <td>2.487200e+00</td>\n",
              "      <td>0.0300</td>\n",
              "    </tr>\n",
              "    <tr>\n",
              "      <th>par</th>\n",
              "      <td>Passive Aggressive Regressor</td>\n",
              "      <td>7.720800e+00</td>\n",
              "      <td>1.379199e+02</td>\n",
              "      <td>1.164540e+01</td>\n",
              "      <td>-1.845000e+00</td>\n",
              "      <td>1.0528</td>\n",
              "      <td>3.548600e+00</td>\n",
              "      <td>0.0233</td>\n",
              "    </tr>\n",
              "    <tr>\n",
              "      <th>lr</th>\n",
              "      <td>Linear Regression</td>\n",
              "      <td>1.234473e+04</td>\n",
              "      <td>3.872474e+08</td>\n",
              "      <td>1.379190e+04</td>\n",
              "      <td>-3.980419e+06</td>\n",
              "      <td>6.7287</td>\n",
              "      <td>8.232962e+03</td>\n",
              "      <td>0.0167</td>\n",
              "    </tr>\n",
              "    <tr>\n",
              "      <th>lar</th>\n",
              "      <td>Least Angle Regression</td>\n",
              "      <td>1.305666e+09</td>\n",
              "      <td>7.974137e+18</td>\n",
              "      <td>1.630351e+09</td>\n",
              "      <td>-3.778215e+17</td>\n",
              "      <td>7.1998</td>\n",
              "      <td>1.374211e+09</td>\n",
              "      <td>0.0267</td>\n",
              "    </tr>\n",
              "  </tbody>\n",
              "</table>\n",
              "</div>"
            ],
            "text/plain": [
              "                                    Model           MAE           MSE  \\\n",
              "br                         Bayesian Ridge  4.721000e+00  6.166230e+01   \n",
              "llar         Lasso Least Angle Regression  4.709400e+00  6.160580e+01   \n",
              "lasso                    Lasso Regression  4.739300e+00  6.180690e+01   \n",
              "en                            Elastic Net  4.766200e+00  6.208360e+01   \n",
              "ada                    AdaBoost Regressor  5.055000e+00  6.838070e+01   \n",
              "omp           Orthogonal Matching Pursuit  4.932800e+00  6.395490e+01   \n",
              "knn                 K Neighbors Regressor  5.037200e+00  6.826070e+01   \n",
              "huber                     Huber Regressor  5.253500e+00  7.232880e+01   \n",
              "catboost               CatBoost Regressor  5.215800e+00  6.979860e+01   \n",
              "lightgbm  Light Gradient Boosting Machine  5.432000e+00  7.281760e+01   \n",
              "rf                Random Forest Regressor  5.385300e+00  7.550840e+01   \n",
              "gbr           Gradient Boosting Regressor  5.403500e+00  7.637210e+01   \n",
              "ridge                    Ridge Regression  5.440500e+00  7.551220e+01   \n",
              "et                  Extra Trees Regressor  5.428000e+00  7.960190e+01   \n",
              "xgboost         Extreme Gradient Boosting  5.785500e+00  8.797550e+01   \n",
              "dt                Decision Tree Regressor  6.658900e+00  1.218470e+02   \n",
              "par          Passive Aggressive Regressor  7.720800e+00  1.379199e+02   \n",
              "lr                      Linear Regression  1.234473e+04  3.872474e+08   \n",
              "lar                Least Angle Regression  1.305666e+09  7.974137e+18   \n",
              "\n",
              "                  RMSE            R2   RMSLE          MAPE  TT (Sec)  \n",
              "br        7.526900e+00 -2.500000e-03  1.3966  1.022600e+00    0.0200  \n",
              "llar      7.525700e+00 -3.300000e-03  1.5339  9.985000e-01    0.0233  \n",
              "lasso     7.536900e+00 -5.700000e-03  1.3020  1.049100e+00    0.0267  \n",
              "en        7.551500e+00 -8.800000e-03  1.2228  1.081000e+00    0.0200  \n",
              "ada       7.974200e+00 -1.437000e-01  1.1281  1.401900e+00    0.1267  \n",
              "omp       7.801100e+00 -1.453000e-01  1.2277  1.284000e+00    0.0200  \n",
              "knn       8.008600e+00 -1.729000e-01  1.1054  1.318000e+00    0.0867  \n",
              "huber     8.155800e+00 -1.946000e-01  0.9905  1.567300e+00    0.0533  \n",
              "catboost  8.132100e+00 -2.304000e-01  1.0350  1.402500e+00    1.7633  \n",
              "lightgbm  8.325300e+00 -3.007000e-01  0.9841  1.707600e+00    0.0600  \n",
              "rf        8.504800e+00 -3.807000e-01  1.0823  1.518400e+00    0.8333  \n",
              "gbr       8.609900e+00 -4.644000e-01  1.0969  1.636200e+00    0.1300  \n",
              "ridge     8.558500e+00 -4.798000e-01  0.9964  1.688500e+00    0.0200  \n",
              "et        8.828400e+00 -5.866000e-01  1.0634  1.531700e+00    0.7033  \n",
              "xgboost   9.201600e+00 -6.510000e-01  0.9975  1.845100e+00    1.0433  \n",
              "dt        1.103200e+01 -1.838800e+00  0.9816  2.487200e+00    0.0300  \n",
              "par       1.164540e+01 -1.845000e+00  1.0528  3.548600e+00    0.0233  \n",
              "lr        1.379190e+04 -3.980419e+06  6.7287  8.232962e+03    0.0167  \n",
              "lar       1.630351e+09 -3.778215e+17  7.1998  1.374211e+09    0.0267  "
            ]
          },
          "metadata": {
            "tags": []
          }
        }
      ]
    },
    {
      "cell_type": "markdown",
      "metadata": {
        "id": "Z21Y9RZU9Dqu"
      },
      "source": [
        "## Use py-caret and timemachines together\n",
        "Use timemachines to generate some more features\n",
        "*   By default 3rd party time-series models are not included in timemachines install, so we manually installed statsmodels above. It should be a recent version (e.g. 0.12.2). \n",
        "\n"
      ]
    },
    {
      "cell_type": "code",
      "metadata": {
        "colab": {
          "base_uri": "https://localhost:8080/"
        },
        "id": "haFoB74kBFB4",
        "outputId": "8370a15c-0b65-48ec-d822-8b69a0dfc3b6"
      },
      "source": [
        "!pip freeze | grep statsmodels"
      ],
      "execution_count": 14,
      "outputs": [
        {
          "output_type": "stream",
          "text": [
            "statsmodels==0.12.2\n"
          ],
          "name": "stdout"
        }
      ]
    },
    {
      "cell_type": "markdown",
      "metadata": {
        "id": "aq0iZS0hD3fK"
      },
      "source": [
        "If you can't run this line, then you need to !pip install --upgrade statsmodels"
      ]
    },
    {
      "cell_type": "code",
      "metadata": {
        "id": "jp-VvubQBb4I"
      },
      "source": [
        "from statsmodels.tsa.arima_model import ARIMA"
      ],
      "execution_count": 15,
      "outputs": []
    },
    {
      "cell_type": "markdown",
      "metadata": {
        "id": "HVBN_ytsEQwG"
      },
      "source": [
        "Now we run a bunch of univariate time-series models over the data to create forecasts. These can be used as features in pycaret. See [timemachiens](https://github.com/microprediction/timemachines) package for more possibilities (such as Facebook prophet, neuralprophet and so forth) but be warned that some of those libraries will take a very long time to run! Even statsmodels TSA drags a bit, as you can see..."
      ]
    },
    {
      "cell_type": "code",
      "metadata": {
        "colab": {
          "base_uri": "https://localhost:8080/"
        },
        "id": "BrzmY2689BE5",
        "outputId": "54a38673-2cdc-46cf-9179-3f8378c0ae44"
      },
      "source": [
        "from timemachines.skaters.allskaters import EMA_SKATERS, DLM_SKATERS, THINKING_SKATERS, TSA_SKATERS, HYPOCRATIC_ENSEMBLE_SKATERS\n",
        "from timemachines.skating import prior \n",
        "skaters = EMA_SKATERS + DLM_SKATERS + TSA_SKATERS + HYPOCRATIC_ENSEMBLE_SKATERS\n",
        "skater_names = [ f.__name__ for f in skaters ]\n",
        "for f, skater_name in zip(skaters,skater_names):\n",
        "    print('Running '+skater_name)\n",
        "    y = df['y'].values\n",
        "    x,x_std = prior(f, y=y, k=1) # Runs a time-series model forward\n",
        "    df[skater_name] = x \n",
        "\n",
        "\n",
        "   "
      ],
      "execution_count": 18,
      "outputs": [
        {
          "output_type": "stream",
          "text": [
            "Running empirical_last_value\n",
            "Running sluggish_moving_average\n",
            "Running slowly_moving_average\n",
            "Running quickly_moving_average\n",
            "Running rapidly_moving_average\n",
            "Running balanced_ema_ensemble\n",
            "Running aggressive_ema_ensemble\n",
            "Running precision_ema_ensemble\n",
            "Running tsa_p1_d0_q0\n",
            "Running tsa_p2_d0_q0\n",
            "Running tsa_p3_d0_q0\n",
            "Running tsa_p1_d0_q1\n",
            "Running tsa_p2_d0_q1\n",
            "Running tsa_p3_d0_q1\n",
            "Running tsa_p1_d1_q0\n",
            "Running tsa_p2_d1_q0\n",
            "Running tsa_p3_d1_q0\n",
            "Running tsa_p1_d1_q0\n",
            "Running tsa_p2_d1_q0\n",
            "Running tsa_p3_d1_q0\n",
            "Running quick_balanced_ema_ensemble\n",
            "Running slow_balanced_ema_ensemble\n",
            "Running quick_aggressive_ema_ensemble\n",
            "Running slow_aggressive_ema_ensemble\n",
            "Running quick_precision_ema_ensemble\n",
            "Running slow_precision_ema_ensemble\n"
          ],
          "name": "stdout"
        }
      ]
    },
    {
      "cell_type": "markdown",
      "metadata": {
        "id": "uRKwRUetT31O"
      },
      "source": [
        "Perhaps that was a little painful. That's why the timemachines library exists - to provides fast incremental time-series models (in addition to exposing others whose speed is what it is).\n",
        "\n",
        "But now we can use the 1 step ahead forecasts as feature"
      ]
    },
    {
      "cell_type": "code",
      "metadata": {
        "id": "9Q3NiHSqSSV5"
      },
      "source": [
        "# Skaters are supposed to return a list of foreward predictions, but we only want\n",
        "# one of them so we extract the first element in the list\n",
        "# Here I do this defensively as there are a couple of models that might violate this convention\n",
        "for skater_name in skater_names:\n",
        "  if isinstance( df[skater_name].values[0],list ):\n",
        "     df[skater_name] = [ x[0] for x in df[skater_name].values]\n",
        "  "
      ],
      "execution_count": 51,
      "outputs": []
    },
    {
      "cell_type": "code",
      "metadata": {
        "colab": {
          "base_uri": "https://localhost:8080/"
        },
        "id": "s9bykgf8SILi",
        "outputId": "4eeccfa6-b9a6-463a-b9b3-a4ec1a1fbb35"
      },
      "source": [
        "df['quick_aggressive_ema_ensemble'].values[:4]"
      ],
      "execution_count": 53,
      "outputs": [
        {
          "output_type": "execute_result",
          "data": {
            "text/plain": [
              "array([         nan,   7.5       , -21.75      ,   3.75301247])"
            ]
          },
          "metadata": {
            "tags": []
          },
          "execution_count": 53
        }
      ]
    },
    {
      "cell_type": "code",
      "metadata": {
        "colab": {
          "base_uri": "https://localhost:8080/",
          "height": 749,
          "referenced_widgets": [
            "a6abecc185d64be48bf06be1506bb48d",
            "93f898bf55ae430ba9b42ef39d481252",
            "e05394abd67e42178067324371931c40"
          ]
        },
        "id": "kVblp56UE-5W",
        "outputId": "11b58c4f-ca68-47fb-edc2-360b811aaa92"
      },
      "source": [
        "s = setup(df, target = 'y', train_size = 0.95,\n",
        "              data_split_shuffle = False, fold_strategy = 'timeseries', fold = 3,\n",
        "              ignore_features = ['date'],\n",
        "              numeric_features = numerical_features + skater_names,\n",
        "              categorical_features = categorical_features,\n",
        "              silent = True, verbose = False, session_id = 321)\n",
        "top5again = compare_models(n_select = 5)"
      ],
      "execution_count": 54,
      "outputs": [
        {
          "output_type": "display_data",
          "data": {
            "text/html": [
              "<div>\n",
              "<style scoped>\n",
              "    .dataframe tbody tr th:only-of-type {\n",
              "        vertical-align: middle;\n",
              "    }\n",
              "\n",
              "    .dataframe tbody tr th {\n",
              "        vertical-align: top;\n",
              "    }\n",
              "\n",
              "    .dataframe thead th {\n",
              "        text-align: right;\n",
              "    }\n",
              "</style>\n",
              "<table border=\"1\" class=\"dataframe\">\n",
              "  <thead>\n",
              "    <tr style=\"text-align: right;\">\n",
              "      <th></th>\n",
              "      <th>Model</th>\n",
              "      <th>MAE</th>\n",
              "      <th>MSE</th>\n",
              "      <th>RMSE</th>\n",
              "      <th>R2</th>\n",
              "      <th>RMSLE</th>\n",
              "      <th>MAPE</th>\n",
              "      <th>TT (Sec)</th>\n",
              "    </tr>\n",
              "  </thead>\n",
              "  <tbody>\n",
              "    <tr>\n",
              "      <th>llar</th>\n",
              "      <td>Lasso Least Angle Regression</td>\n",
              "      <td>4.709400e+00</td>\n",
              "      <td>6.160580e+01</td>\n",
              "      <td>7.525700e+00</td>\n",
              "      <td>-3.300000e-03</td>\n",
              "      <td>1.5339</td>\n",
              "      <td>9.985000e-01</td>\n",
              "      <td>0.0200</td>\n",
              "    </tr>\n",
              "    <tr>\n",
              "      <th>lasso</th>\n",
              "      <td>Lasso Regression</td>\n",
              "      <td>4.740300e+00</td>\n",
              "      <td>6.207160e+01</td>\n",
              "      <td>7.556500e+00</td>\n",
              "      <td>-1.180000e-02</td>\n",
              "      <td>1.2758</td>\n",
              "      <td>1.072000e+00</td>\n",
              "      <td>0.0200</td>\n",
              "    </tr>\n",
              "    <tr>\n",
              "      <th>en</th>\n",
              "      <td>Elastic Net</td>\n",
              "      <td>4.749300e+00</td>\n",
              "      <td>6.181000e+01</td>\n",
              "      <td>7.547500e+00</td>\n",
              "      <td>-1.180000e-02</td>\n",
              "      <td>1.2074</td>\n",
              "      <td>1.104400e+00</td>\n",
              "      <td>0.0233</td>\n",
              "    </tr>\n",
              "    <tr>\n",
              "      <th>br</th>\n",
              "      <td>Bayesian Ridge</td>\n",
              "      <td>4.810600e+00</td>\n",
              "      <td>6.265690e+01</td>\n",
              "      <td>7.610900e+00</td>\n",
              "      <td>-3.290000e-02</td>\n",
              "      <td>1.1481</td>\n",
              "      <td>1.197900e+00</td>\n",
              "      <td>0.0200</td>\n",
              "    </tr>\n",
              "    <tr>\n",
              "      <th>ada</th>\n",
              "      <td>AdaBoost Regressor</td>\n",
              "      <td>5.001400e+00</td>\n",
              "      <td>6.575460e+01</td>\n",
              "      <td>7.850000e+00</td>\n",
              "      <td>-1.231000e-01</td>\n",
              "      <td>1.1309</td>\n",
              "      <td>1.469100e+00</td>\n",
              "      <td>0.1467</td>\n",
              "    </tr>\n",
              "    <tr>\n",
              "      <th>huber</th>\n",
              "      <td>Huber Regressor</td>\n",
              "      <td>5.227300e+00</td>\n",
              "      <td>7.050190e+01</td>\n",
              "      <td>8.022300e+00</td>\n",
              "      <td>-1.324000e-01</td>\n",
              "      <td>1.0037</td>\n",
              "      <td>1.557500e+00</td>\n",
              "      <td>0.0533</td>\n",
              "    </tr>\n",
              "    <tr>\n",
              "      <th>omp</th>\n",
              "      <td>Orthogonal Matching Pursuit</td>\n",
              "      <td>4.914900e+00</td>\n",
              "      <td>6.477480e+01</td>\n",
              "      <td>7.839900e+00</td>\n",
              "      <td>-1.493000e-01</td>\n",
              "      <td>1.1055</td>\n",
              "      <td>1.297300e+00</td>\n",
              "      <td>0.0167</td>\n",
              "    </tr>\n",
              "    <tr>\n",
              "      <th>knn</th>\n",
              "      <td>K Neighbors Regressor</td>\n",
              "      <td>5.122500e+00</td>\n",
              "      <td>6.878880e+01</td>\n",
              "      <td>8.055100e+00</td>\n",
              "      <td>-1.961000e-01</td>\n",
              "      <td>1.0797</td>\n",
              "      <td>1.422300e+00</td>\n",
              "      <td>0.0867</td>\n",
              "    </tr>\n",
              "    <tr>\n",
              "      <th>catboost</th>\n",
              "      <td>CatBoost Regressor</td>\n",
              "      <td>5.268800e+00</td>\n",
              "      <td>7.042140e+01</td>\n",
              "      <td>8.200200e+00</td>\n",
              "      <td>-2.760000e-01</td>\n",
              "      <td>1.0474</td>\n",
              "      <td>1.552500e+00</td>\n",
              "      <td>5.2600</td>\n",
              "    </tr>\n",
              "    <tr>\n",
              "      <th>lightgbm</th>\n",
              "      <td>Light Gradient Boosting Machine</td>\n",
              "      <td>5.433400e+00</td>\n",
              "      <td>7.339120e+01</td>\n",
              "      <td>8.388800e+00</td>\n",
              "      <td>-3.435000e-01</td>\n",
              "      <td>0.9535</td>\n",
              "      <td>1.845400e+00</td>\n",
              "      <td>0.2633</td>\n",
              "    </tr>\n",
              "    <tr>\n",
              "      <th>ridge</th>\n",
              "      <td>Ridge Regression</td>\n",
              "      <td>5.926700e+00</td>\n",
              "      <td>7.989800e+01</td>\n",
              "      <td>8.835700e+00</td>\n",
              "      <td>-6.170000e-01</td>\n",
              "      <td>1.0081</td>\n",
              "      <td>2.370100e+00</td>\n",
              "      <td>0.0167</td>\n",
              "    </tr>\n",
              "    <tr>\n",
              "      <th>xgboost</th>\n",
              "      <td>Extreme Gradient Boosting</td>\n",
              "      <td>5.722800e+00</td>\n",
              "      <td>8.143790e+01</td>\n",
              "      <td>8.939400e+00</td>\n",
              "      <td>-6.444000e-01</td>\n",
              "      <td>1.0322</td>\n",
              "      <td>1.991400e+00</td>\n",
              "      <td>0.8367</td>\n",
              "    </tr>\n",
              "    <tr>\n",
              "      <th>par</th>\n",
              "      <td>Passive Aggressive Regressor</td>\n",
              "      <td>6.317400e+00</td>\n",
              "      <td>1.029186e+02</td>\n",
              "      <td>9.760100e+00</td>\n",
              "      <td>-7.323000e-01</td>\n",
              "      <td>0.9365</td>\n",
              "      <td>2.423700e+00</td>\n",
              "      <td>0.0200</td>\n",
              "    </tr>\n",
              "    <tr>\n",
              "      <th>et</th>\n",
              "      <td>Extra Trees Regressor</td>\n",
              "      <td>5.534600e+00</td>\n",
              "      <td>8.565070e+01</td>\n",
              "      <td>9.178700e+00</td>\n",
              "      <td>-7.479000e-01</td>\n",
              "      <td>1.0509</td>\n",
              "      <td>1.604600e+00</td>\n",
              "      <td>0.7667</td>\n",
              "    </tr>\n",
              "    <tr>\n",
              "      <th>rf</th>\n",
              "      <td>Random Forest Regressor</td>\n",
              "      <td>5.549800e+00</td>\n",
              "      <td>8.208720e+01</td>\n",
              "      <td>9.017100e+00</td>\n",
              "      <td>-7.775000e-01</td>\n",
              "      <td>1.0476</td>\n",
              "      <td>1.812000e+00</td>\n",
              "      <td>1.1867</td>\n",
              "    </tr>\n",
              "    <tr>\n",
              "      <th>gbr</th>\n",
              "      <td>Gradient Boosting Regressor</td>\n",
              "      <td>6.139700e+00</td>\n",
              "      <td>1.033154e+02</td>\n",
              "      <td>1.013930e+01</td>\n",
              "      <td>-1.592200e+00</td>\n",
              "      <td>1.0467</td>\n",
              "      <td>2.297800e+00</td>\n",
              "      <td>0.2500</td>\n",
              "    </tr>\n",
              "    <tr>\n",
              "      <th>lr</th>\n",
              "      <td>Linear Regression</td>\n",
              "      <td>7.543700e+00</td>\n",
              "      <td>1.086287e+02</td>\n",
              "      <td>1.034220e+01</td>\n",
              "      <td>-1.756100e+00</td>\n",
              "      <td>1.1839</td>\n",
              "      <td>4.019200e+00</td>\n",
              "      <td>0.8033</td>\n",
              "    </tr>\n",
              "    <tr>\n",
              "      <th>dt</th>\n",
              "      <td>Decision Tree Regressor</td>\n",
              "      <td>7.902300e+00</td>\n",
              "      <td>1.457437e+02</td>\n",
              "      <td>1.190740e+01</td>\n",
              "      <td>-1.972300e+00</td>\n",
              "      <td>1.0676</td>\n",
              "      <td>3.502500e+00</td>\n",
              "      <td>0.0367</td>\n",
              "    </tr>\n",
              "    <tr>\n",
              "      <th>lar</th>\n",
              "      <td>Least Angle Regression</td>\n",
              "      <td>5.550897e+07</td>\n",
              "      <td>1.167841e+16</td>\n",
              "      <td>6.849904e+07</td>\n",
              "      <td>-5.503361e+14</td>\n",
              "      <td>13.7770</td>\n",
              "      <td>5.594211e+07</td>\n",
              "      <td>0.0300</td>\n",
              "    </tr>\n",
              "  </tbody>\n",
              "</table>\n",
              "</div>"
            ],
            "text/plain": [
              "                                    Model           MAE           MSE  \\\n",
              "llar         Lasso Least Angle Regression  4.709400e+00  6.160580e+01   \n",
              "lasso                    Lasso Regression  4.740300e+00  6.207160e+01   \n",
              "en                            Elastic Net  4.749300e+00  6.181000e+01   \n",
              "br                         Bayesian Ridge  4.810600e+00  6.265690e+01   \n",
              "ada                    AdaBoost Regressor  5.001400e+00  6.575460e+01   \n",
              "huber                     Huber Regressor  5.227300e+00  7.050190e+01   \n",
              "omp           Orthogonal Matching Pursuit  4.914900e+00  6.477480e+01   \n",
              "knn                 K Neighbors Regressor  5.122500e+00  6.878880e+01   \n",
              "catboost               CatBoost Regressor  5.268800e+00  7.042140e+01   \n",
              "lightgbm  Light Gradient Boosting Machine  5.433400e+00  7.339120e+01   \n",
              "ridge                    Ridge Regression  5.926700e+00  7.989800e+01   \n",
              "xgboost         Extreme Gradient Boosting  5.722800e+00  8.143790e+01   \n",
              "par          Passive Aggressive Regressor  6.317400e+00  1.029186e+02   \n",
              "et                  Extra Trees Regressor  5.534600e+00  8.565070e+01   \n",
              "rf                Random Forest Regressor  5.549800e+00  8.208720e+01   \n",
              "gbr           Gradient Boosting Regressor  6.139700e+00  1.033154e+02   \n",
              "lr                      Linear Regression  7.543700e+00  1.086287e+02   \n",
              "dt                Decision Tree Regressor  7.902300e+00  1.457437e+02   \n",
              "lar                Least Angle Regression  5.550897e+07  1.167841e+16   \n",
              "\n",
              "                  RMSE            R2    RMSLE          MAPE  TT (Sec)  \n",
              "llar      7.525700e+00 -3.300000e-03   1.5339  9.985000e-01    0.0200  \n",
              "lasso     7.556500e+00 -1.180000e-02   1.2758  1.072000e+00    0.0200  \n",
              "en        7.547500e+00 -1.180000e-02   1.2074  1.104400e+00    0.0233  \n",
              "br        7.610900e+00 -3.290000e-02   1.1481  1.197900e+00    0.0200  \n",
              "ada       7.850000e+00 -1.231000e-01   1.1309  1.469100e+00    0.1467  \n",
              "huber     8.022300e+00 -1.324000e-01   1.0037  1.557500e+00    0.0533  \n",
              "omp       7.839900e+00 -1.493000e-01   1.1055  1.297300e+00    0.0167  \n",
              "knn       8.055100e+00 -1.961000e-01   1.0797  1.422300e+00    0.0867  \n",
              "catboost  8.200200e+00 -2.760000e-01   1.0474  1.552500e+00    5.2600  \n",
              "lightgbm  8.388800e+00 -3.435000e-01   0.9535  1.845400e+00    0.2633  \n",
              "ridge     8.835700e+00 -6.170000e-01   1.0081  2.370100e+00    0.0167  \n",
              "xgboost   8.939400e+00 -6.444000e-01   1.0322  1.991400e+00    0.8367  \n",
              "par       9.760100e+00 -7.323000e-01   0.9365  2.423700e+00    0.0200  \n",
              "et        9.178700e+00 -7.479000e-01   1.0509  1.604600e+00    0.7667  \n",
              "rf        9.017100e+00 -7.775000e-01   1.0476  1.812000e+00    1.1867  \n",
              "gbr       1.013930e+01 -1.592200e+00   1.0467  2.297800e+00    0.2500  \n",
              "lr        1.034220e+01 -1.756100e+00   1.1839  4.019200e+00    0.8033  \n",
              "dt        1.190740e+01 -1.972300e+00   1.0676  3.502500e+00    0.0367  \n",
              "lar       6.849904e+07 -5.503361e+14  13.7770  5.594211e+07    0.0300  "
            ]
          },
          "metadata": {
            "tags": []
          }
        }
      ]
    },
    {
      "cell_type": "markdown",
      "metadata": {
        "id": "9g-1OWp0Fq8R"
      },
      "source": [
        "Notice that the errors have been reduced (well, maybe - I don't know which random time series you chose). \n",
        "\n",
        "For more tips like this consider following [microprediction](https://www.linkedin.com/company/65109690) on Linked-In. "
      ]
    }
  ]
}
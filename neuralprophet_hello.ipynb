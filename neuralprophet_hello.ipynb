{
  "nbformat": 4,
  "nbformat_minor": 0,
  "metadata": {
    "colab": {
      "name": "neuralprophet_hello.ipynb",
      "provenance": [],
      "authorship_tag": "ABX9TyNBLX1a0QOBoSCxjdsKFUCk",
      "include_colab_link": true
    },
    "kernelspec": {
      "name": "python3",
      "display_name": "Python 3"
    }
  },
  "cells": [
    {
      "cell_type": "markdown",
      "metadata": {
        "id": "view-in-github",
        "colab_type": "text"
      },
      "source": [
        "<a href=\"https://colab.research.google.com/github/microprediction/timeseries-notebooks/blob/main/neuralprophet_hello.ipynb\" target=\"_parent\"><img src=\"https://colab.research.google.com/assets/colab-badge.svg\" alt=\"Open In Colab\"/></a>"
      ]
    },
    {
      "cell_type": "code",
      "metadata": {
        "id": "pxPf4jy3Omj_"
      },
      "source": [
        "# !pip install neuralprophet strangely fails in colab\n",
        "!pip install git+https://github.com/ourownstory/neural_prophet.git\n",
        "import logging, sys\n",
        "logging.disable(sys.maxsize)"
      ],
      "execution_count": null,
      "outputs": []
    },
    {
      "cell_type": "code",
      "metadata": {
        "id": "-KgmO47lOr3S"
      },
      "source": [
        "!pip install microprediction"
      ],
      "execution_count": null,
      "outputs": []
    },
    {
      "cell_type": "markdown",
      "metadata": {
        "id": "p2bh6KxE88So"
      },
      "source": [
        "### Hello world univariate prediction example\n",
        "See https://www.microprediction.com/blog/popular-timeseries-packages for more packages"
      ]
    },
    {
      "cell_type": "code",
      "metadata": {
        "id": "DUhhIeHhOutZ"
      },
      "source": [
        "from microprediction import MicroReader\n",
        "mr = MicroReader()\n",
        "YS = mr.get_lagged_values(name='emojitracker-twitter-face_with_medical_mask.json')[:500]\n",
        "# or pick from https://www.microprediction.org/browse_streams.html"
      ],
      "execution_count": 48,
      "outputs": []
    },
    {
      "cell_type": "markdown",
      "metadata": {
        "id": "eLs3vLVuQJKh"
      },
      "source": [
        "### Simple example. Mess with this for quick debugging"
      ]
    },
    {
      "cell_type": "code",
      "metadata": {
        "colab": {
          "base_uri": "https://localhost:8080/"
        },
        "id": "oNGGFkRrQFRZ",
        "outputId": "b31fbe96-3cc0-49b5-f82f-9e106710cc25"
      },
      "source": [
        "# A simple example to make it easier to debug directly in colab \n",
        "DF = pd.DataFrame(columns=['y'],data=YS)\n",
        "DF['ds'] = pd.date_range(start='2021-01-01', periods=len(YS), freq='5min')\n",
        "DF[:4]\n",
        "\n",
        "model = NeuralProphet(\n",
        "    n_lags=4,\n",
        "    changepoints_range=0.95,\n",
        "    n_changepoints=30,\n",
        "    weekly_seasonality=False,\n",
        "    batch_size=64,\n",
        "    epochs=10,\n",
        "    learning_rate=1.0,\n",
        ")\n",
        "metrics = model.fit(DF, freq='5min')\n",
        "FUTURE = model.make_future_dataframe(DF,periods=1)\n",
        "FORECAST = model.predict(FUTURE)\n",
        "FORECAST['yhat1'].values[-1]"
      ],
      "execution_count": 49,
      "outputs": [
        {
          "output_type": "stream",
          "text": [
            "Epoch[10/10]: 100%|██████████| 10/10 [00:00<00:00, 31.43it/s, SmoothL1Loss=0.0205, MAE=2.82, RegLoss=0]\n"
          ],
          "name": "stderr"
        },
        {
          "output_type": "execute_result",
          "data": {
            "text/plain": [
              "8.712859153747559"
            ]
          },
          "metadata": {
            "tags": []
          },
          "execution_count": 49
        }
      ]
    },
    {
      "cell_type": "markdown",
      "metadata": {
        "id": "y_N4J2bPP5ud"
      },
      "source": [
        "### Example of periodically fitting and predicting an entire time series out of sample "
      ]
    },
    {
      "cell_type": "code",
      "metadata": {
        "id": "TxUWP0ZbSXAt"
      },
      "source": [
        "# Some key params to mess with\n",
        "N_LAGS = 12\n",
        "N_CHANGEPOINTS = 4"
      ],
      "execution_count": 57,
      "outputs": []
    },
    {
      "cell_type": "code",
      "metadata": {
        "id": "ODDpGjVDPDwS"
      },
      "source": [
        "from neuralprophet import NeuralProphet\n",
        "import pandas as pd \n",
        "import datetime \n",
        "\n",
        "def prophet_next(ys:[float],model=None):\n",
        "    \"\"\" Predict the next point in a series\n",
        "             \n",
        "          returns y_hat, new model \n",
        "    \"\"\"\n",
        "    if len(ys)==0:\n",
        "      return 0.0, None \n",
        "    if len(ys)<400:\n",
        "       return ys[-1], None \n",
        "    if model is None or len(ys) % 17 ==0: \n",
        "      # Periodically fit\n",
        "      model = NeuralProphet(\n",
        "          n_lags=N_LAGS,\n",
        "          changepoints_range=0.95,\n",
        "          n_changepoints=N_CHANGEPOINTS,\n",
        "          weekly_seasonality=False,\n",
        "          batch_size=64,\n",
        "          epochs=10,\n",
        "          learning_rate=1.0,\n",
        "      )\n",
        "    # Predict out of sample\n",
        "    # Shouldn't be reconstructing each step but who cares? \n",
        "    df = pd.DataFrame(columns=['y'],data=ys)\n",
        "    df['ds'] = pd.date_range(start='2021-01-01', periods=len(ys), freq='5min')\n",
        "    metrics = model.fit(df, freq='5min')\n",
        "    future = model.make_future_dataframe(df, periods=1)\n",
        "    forecast = model.predict(future)\n",
        "    y_hat = forecast['yhat1'].values[-1]\n",
        "    print('y_hat = '+str(y_hat))\n",
        "    return y_hat, model\n",
        "   \n",
        "def predict_all(ys:[float])->[float]:\n",
        "  \"\"\" Predict using periodic refitting \n",
        "\n",
        "      ys:       observations\n",
        "      returns:  priors    (i.e. out of sample)\n",
        "  \n",
        "  \"\"\"\n",
        "  model = None \n",
        "  y_hats = list()\n",
        "  for t in range(len(ys)-1):\n",
        "     y_hat, model = prophet_next(ys[:t],model)\n",
        "     y_hats.append(y_hat)\n",
        "  return y_hats \n",
        "\n",
        "XS = predict_all(YS)"
      ],
      "execution_count": null,
      "outputs": []
    },
    {
      "cell_type": "code",
      "metadata": {
        "colab": {
          "base_uri": "https://localhost:8080/",
          "height": 282
        },
        "id": "UsQalSXqS6a4",
        "outputId": "23362789-e060-406f-b373-5536981c1831"
      },
      "source": [
        "import matplotlib.pyplot as plt\n",
        "plt.plot(YS[474:499],'*b')\n",
        "plt.plot(XS[474:499],'g')"
      ],
      "execution_count": 59,
      "outputs": [
        {
          "output_type": "execute_result",
          "data": {
            "text/plain": [
              "[<matplotlib.lines.Line2D at 0x7fc2550ebb00>]"
            ]
          },
          "metadata": {
            "tags": []
          },
          "execution_count": 59
        },
        {
          "output_type": "display_data",
          "data": {
            "image/png": "[encoded data removed]",
            "text/plain": [
              "<Figure size 432x288 with 1 Axes>"
            ]
          },
          "metadata": {
            "tags": [],
            "needs_background": "light"
          }
        }
      ]
    }
  ]
}
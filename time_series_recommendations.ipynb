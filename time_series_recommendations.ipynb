{
  "nbformat": 4,
  "nbformat_minor": 0,
  "metadata": {
    "colab": {
      "name": "time-series-recommendations.ipynb",
      "provenance": [],
      "collapsed_sections": [],
      "include_colab_link": true
    },
    "kernelspec": {
      "name": "python3",
      "display_name": "Python 3"
    },
    "language_info": {
      "name": "python"
    }
  },
  "cells": [
    {
      "cell_type": "markdown",
      "metadata": {
        "id": "view-in-github",
        "colab_type": "text"
      },
      "source": [
        "<a href=\"https://colab.research.google.com/github/microprediction/timeseries-notebooks/blob/main/time_series_recommendations.ipynb\" target=\"_parent\"><img src=\"https://colab.research.google.com/assets/colab-badge.svg\" alt=\"Open In Colab\"/></a>"
      ]
    },
    {
      "cell_type": "code",
      "metadata": {
        "id": "VpVcKkLfnrwI"
      },
      "source": [
        "!pip install --upgrade timemachines\n",
        "!pip install --upgrade statsmodels"
      ],
      "execution_count": null,
      "outputs": []
    },
    {
      "cell_type": "markdown",
      "metadata": {
        "id": "3MEM-rv5pHSq"
      },
      "source": [
        "# Time-series package recommender \n",
        "This notebook shows you how to get recommendations for timeseries methods, depending on how far ahead you want to be forecasting and how much computation you wish to spend. These recommendations are based on continuously updated [Elo ratings](https://microprediction.github.io/timeseries-elo-ratings/html_leaderboards/univariate-k_003.html) so will change from day to day. \n",
        "\n",
        "![](https://i.imgur.com/0WD8yka.png)\n",
        "\n",
        "Click through to those [leaderboards](https://microprediction.github.io/timeseries-elo-ratings/html_leaderboards/univariate-k_008.html)  to see the packages they draw functionality from, such as statsmodels, sktime, tbats, prophet, divinity, orbit, river, pydlm, neuralprophet and so forth. \n"
      ]
    },
    {
      "cell_type": "markdown",
      "metadata": {
        "id": "a7IuHdA8pozz"
      },
      "source": [
        "### Suggest 12 models that might be okay at 5-step ahead prediction"
      ]
    },
    {
      "cell_type": "code",
      "metadata": {
        "colab": {
          "base_uri": "https://localhost:8080/"
        },
        "id": "aYu_3FW7n2xV",
        "outputId": "4bab8089-610e-484b-fc37-6a519efd6b5f"
      },
      "source": [
        "from timemachines.skatertools.recommendations.suggestions import top_rated_names\n",
        "top_rated_names(k=5,n=12)"
      ],
      "execution_count": 2,
      "outputs": [
        {
          "output_type": "execute_result",
          "data": {
            "text/plain": [
              "['elo_faster_residual_precision_ensemble',\n",
              " 'thinking_slow_and_fast',\n",
              " 'elo_faster_univariate_precision_ensemble',\n",
              " 'precision_ema_ensemble',\n",
              " 'quick_aggressive_ema_ensemble',\n",
              " 'elo_faster_univariate_aggressive_ensemble',\n",
              " 'elo_faster_univariate_balanced_ensemble',\n",
              " 'elo_fastest_residual_precision_ensemble',\n",
              " 'slow_precision_ema_ensemble',\n",
              " 'thinking_fast_and_slow',\n",
              " 'elo_faster_residual_aggressive_ensemble',\n",
              " 'slow_aggressive_ema_ensemble']"
            ]
          },
          "metadata": {},
          "execution_count": 2
        }
      ]
    },
    {
      "cell_type": "markdown",
      "metadata": {
        "id": "VdzE5jX_ptmm"
      },
      "source": [
        "## Suggest **fast** models that might be okay at 3-step ahead prediction \n"
      ]
    },
    {
      "cell_type": "code",
      "metadata": {
        "colab": {
          "base_uri": "https://localhost:8080/"
        },
        "id": "-AP7ZPK5py6N",
        "outputId": "a1e41e0f-d379-4d16-9180-643c359f0c80"
      },
      "source": [
        "top_rated_names(k=5,max_seconds=0.1)"
      ],
      "execution_count": 3,
      "outputs": [
        {
          "output_type": "execute_result",
          "data": {
            "text/plain": [
              "['thinking_slow_and_fast',\n",
              " 'precision_ema_ensemble',\n",
              " 'quick_aggressive_ema_ensemble',\n",
              " 'slow_precision_ema_ensemble',\n",
              " 'thinking_fast_and_slow']"
            ]
          },
          "metadata": {},
          "execution_count": 3
        }
      ]
    },
    {
      "cell_type": "markdown",
      "metadata": {
        "id": "IqTIsYK8qWqF"
      },
      "source": [
        "## Suggest models that might be good at predicting residuals\n",
        "\n",
        "\n",
        "\n"
      ]
    },
    {
      "cell_type": "code",
      "metadata": {
        "colab": {
          "base_uri": "https://localhost:8080/"
        },
        "id": "5qF2jiMfqxdP",
        "outputId": "1a031432-6886-4a6a-852a-282a4a33153b"
      },
      "source": [
        "top_rated_names(k=7,category='residual',n=10)"
      ],
      "execution_count": 4,
      "outputs": [
        {
          "output_type": "execute_result",
          "data": {
            "text/plain": [
              "['elo_faster_univariate_aggressive_ensemble',\n",
              " 'elo_faster_residual_balanced_ensemble',\n",
              " 'thinking_fast_and_slow',\n",
              " 'elo_faster_residual_precision_ensemble',\n",
              " 'elo_faster_univariate_balanced_ensemble',\n",
              " 'elo_fastest_residual_precision_ensemble',\n",
              " 'elo_faster_residual_aggressive_ensemble',\n",
              " 'sk_ae_add',\n",
              " 'slow_aggressive_ema_ensemble',\n",
              " 'quick_aggressive_ema_ensemble']"
            ]
          },
          "metadata": {},
          "execution_count": 4
        }
      ]
    },
    {
      "cell_type": "markdown",
      "metadata": {
        "id": "QCMn0ZLuq-d1"
      },
      "source": [
        "## Instantiate and use a model"
      ]
    },
    {
      "cell_type": "markdown",
      "metadata": {
        "id": "PZEzpke6rBZF"
      },
      "source": [
        "If the models you wish to use require statsmodels or timemachines only, you are good to go. "
      ]
    },
    {
      "cell_type": "code",
      "metadata": {
        "colab": {
          "base_uri": "https://localhost:8080/"
        },
        "id": "mWnoCxW7yY94",
        "outputId": "a4fa0ade-70ba-4126-9487-5a5ac1494748"
      },
      "source": [
        "from timemachines.skaters.localskaters import local_skater_from_name\n",
        "f = local_skater_from_name('thinking_fast_and_slow')\n",
        "f"
      ],
      "execution_count": 5,
      "outputs": [
        {
          "output_type": "execute_result",
          "data": {
            "text/plain": [
              "<function timemachines.skaters.simple.thinking.thinking_fast_and_slow>"
            ]
          },
          "metadata": {},
          "execution_count": 5
        }
      ]
    },
    {
      "cell_type": "markdown",
      "metadata": {
        "id": "dgKiFhRuydcK"
      },
      "source": [
        "But otherwise you need to install the third party library. There's a utility to tell you where the package is. "
      ]
    },
    {
      "cell_type": "code",
      "metadata": {
        "colab": {
          "base_uri": "https://localhost:8080/",
          "height": 35
        },
        "id": "kWGxc56qwQ5c",
        "outputId": "858082cd-68c6-48fc-e2c5-bb6b32e20d77"
      },
      "source": [
        "from timemachines.skatertools.utilities.locations import pypi_from_name\n",
        "pypi_from_name('sk_time')"
      ],
      "execution_count": 6,
      "outputs": [
        {
          "output_type": "execute_result",
          "data": {
            "application/vnd.google.colaboratory.intrinsic+json": {
              "type": "string"
            },
            "text/plain": [
              "'https://pypi.org/project/sktime'"
            ]
          },
          "metadata": {},
          "execution_count": 6
        }
      ]
    },
    {
      "cell_type": "markdown",
      "metadata": {
        "id": "5sHYKj96wfQU"
      },
      "source": [
        "You might need to read the author's instructions, but I'm feeling lucky..."
      ]
    },
    {
      "cell_type": "code",
      "metadata": {
        "id": "-XB1vCsnrGCC"
      },
      "source": [
        "!pip install --upgrade sktime"
      ],
      "execution_count": null,
      "outputs": []
    },
    {
      "cell_type": "markdown",
      "metadata": {
        "id": "S_DFErK_t-iM"
      },
      "source": [
        "One can check that timemachines is good to go:"
      ]
    },
    {
      "cell_type": "code",
      "metadata": {
        "colab": {
          "base_uri": "https://localhost:8080/"
        },
        "id": "0-A_YG4xslsO",
        "outputId": "96a5eb44-d32d-41e8-c8e6-5c6fe23a0836"
      },
      "source": [
        "from timemachines.skaters.sk.skinclusion import using_sktime\n",
        "using_sktime"
      ],
      "execution_count": 1,
      "outputs": [
        {
          "output_type": "execute_result",
          "data": {
            "text/plain": [
              "True"
            ]
          },
          "metadata": {},
          "execution_count": 1
        }
      ]
    },
    {
      "cell_type": "markdown",
      "metadata": {
        "id": "td9armI9uDpY"
      },
      "source": [
        "You should also notice that the list of all local skaters now includes sktime skaters. "
      ]
    },
    {
      "cell_type": "code",
      "metadata": {
        "colab": {
          "base_uri": "https://localhost:8080/"
        },
        "id": "g_JMeHjPsbKM",
        "outputId": "f97839c1-b381-4a47-f905-e162ce2529b7"
      },
      "source": [
        "from timemachines.skaters.localskaters import LOCAL_SKATERS\n",
        "LOCAL_SKATERS[-3:]"
      ],
      "execution_count": 3,
      "outputs": [
        {
          "output_type": "execute_result",
          "data": {
            "text/plain": [
              "[<function timemachines.skaters.simple.hypocraticensemble.quick_precision_ema_ensemble>,\n",
              " <function timemachines.skaters.simple.hypocraticensemble.slow_precision_ema_ensemble>,\n",
              " <function timemachines.skaters.sk.sktheta.sk_theta>]"
            ]
          },
          "metadata": {},
          "execution_count": 3
        }
      ]
    },
    {
      "cell_type": "markdown",
      "metadata": {
        "id": "LiDyERowuL51"
      },
      "source": [
        "There's a utility for loading a skater from the name"
      ]
    },
    {
      "cell_type": "code",
      "metadata": {
        "colab": {
          "base_uri": "https://localhost:8080/"
        },
        "id": "zCrcTJTBrOS5",
        "outputId": "0532c203-1e7f-4df3-e76e-b1f841b31cbb"
      },
      "source": [
        "from timemachines.skaters.localskaters import local_skater_from_name\n",
        "f = local_skater_from_name('sk_theta')\n",
        "f"
      ],
      "execution_count": 4,
      "outputs": [
        {
          "output_type": "execute_result",
          "data": {
            "text/plain": [
              "<function timemachines.skaters.sk.sktheta.sk_theta>"
            ]
          },
          "metadata": {},
          "execution_count": 4
        }
      ]
    },
    {
      "cell_type": "markdown",
      "metadata": {
        "id": "WaJ7I7uRwyNv"
      },
      "source": [
        "... or you can find it manually by perusing [timemachines/skaters](https://github.com/microprediction/timemachines/tree/main/timemachines/skaters)\n"
      ]
    },
    {
      "cell_type": "code",
      "metadata": {
        "colab": {
          "base_uri": "https://localhost:8080/"
        },
        "id": "TRjTVerMw863",
        "outputId": "0ffd0695-8302-429d-d3ba-2eead8344688"
      },
      "source": [
        "from timemachines.skaters.sk.sktheta import sk_theta as g\n",
        "g"
      ],
      "execution_count": 5,
      "outputs": [
        {
          "output_type": "execute_result",
          "data": {
            "text/plain": [
              "<function timemachines.skaters.sk.sktheta.sk_theta>"
            ]
          },
          "metadata": {},
          "execution_count": 5
        }
      ]
    },
    {
      "cell_type": "markdown",
      "metadata": {
        "id": "i2ls8iwkrpdu"
      },
      "source": [
        "Either way, you can use it to forecast 3 steps (say), repeatedly, as as explained in the [README.md](https://github.com/microprediction/timemachines). Note the use of state *s*"
      ]
    },
    {
      "cell_type": "code",
      "metadata": {
        "colab": {
          "base_uri": "https://localhost:8080/"
        },
        "id": "IxjklqTar3vs",
        "outputId": "cce94316-e103-40ce-8db7-ac94abfd2542"
      },
      "source": [
        "import numpy as np \n",
        "ys = np.random.randn(500)\n",
        "s = {}\n",
        "for y in ys[:150]:\n",
        "   x, x_std, s = f(y=y,s=s,k=3,e=-1) #<-- warming up\n",
        "for y in ys[150:155]:\n",
        "   x, x_std, s = f(y=y,s=s,k=3,e=10)\n",
        "print(x)"
      ],
      "execution_count": 6,
      "outputs": [
        {
          "output_type": "stream",
          "name": "stdout",
          "text": [
            "[-0.05548757630988713, -0.055819636473717786, -0.05615169663754845]\n"
          ]
        }
      ]
    }
  ]
}
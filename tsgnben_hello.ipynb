{
  "nbformat": 4,
  "nbformat_minor": 0,
  "metadata": {
    "colab": {
      "name": "tsgnben_hello.ipynb",
      "provenance": [],
      "authorship_tag": "ABX9TyNyRU8W0czGUnJ/vtHUSsc1",
      "include_colab_link": true
    },
    "kernelspec": {
      "name": "python3",
      "display_name": "Python 3"
    }
  },
  "cells": [
    {
      "cell_type": "markdown",
      "metadata": {
        "id": "view-in-github",
        "colab_type": "text"
      },
      "source": [
        "<a href=\"https://colab.research.google.com/github/microprediction/timeseries-notebooks/blob/main/tsgnben_hello.ipynb\" target=\"_parent\"><img src=\"https://colab.research.google.com/assets/colab-badge.svg\" alt=\"Open In Colab\"/></a>"
      ]
    },
    {
      "cell_type": "code",
      "metadata": {
        "id": "XfqYwIQQni35"
      },
      "source": [
        "!pip install tsbngen\n",
        "import pandas as pd \n",
        "import time\n",
        "import numpy as np \n",
        "import tsBNgen"
      ],
      "execution_count": 19,
      "outputs": []
    },
    {
      "cell_type": "markdown",
      "metadata": {
        "id": "73Tpo2a2wtfr"
      },
      "source": [
        "# Demonstration of TsBNGen\n",
        "Follows https://github.com/manitadayon/tsBNgen/blob/master/Time_Series_Generation_Examples.ipynb\n"
      ]
    },
    {
      "cell_type": "code",
      "metadata": {
        "id": "UYC1HPCLPq4g"
      },
      "source": [
        "# Hidden Markov model specification as Bayesian Network\n",
        "T=20\n",
        "N=1000\n",
        "N_level=[4]\n",
        "Mat=pd.DataFrame(np.array(([0,1],[0,0]))) # HMM\n",
        "Node_Type=['D','C']\n",
        "CPD={'0':[0.25,0.25,0.25,0.25],'01':{'mu0':20,'sigma0':5,'mu1':40,'sigma1':5,\n",
        "    'mu2':60,'sigma2':5,'mu3':80,'sigma3':5}}\n",
        "Parent={'0':[],'1':[0]}\n",
        "CPD2={'00':[[0.6,0.3,0.05,0.05],[0.25,0.4,0.25,0.1],[0.1,0.3,0.4,0.2],[0.05,0.05,0.4,0.5]],'01':{'mu0':20,'sigma0':5,'mu1':40,'sigma1':5,\n",
        "    'mu2':60,'sigma2':5,'mu3':80,'sigma3':5\n",
        "}}\n",
        "loopbacks={'00':[1]}\n",
        "Parent2={'0':[0],'1':[0]}\n"
      ],
      "execution_count": 20,
      "outputs": []
    },
    {
      "cell_type": "code",
      "metadata": {
        "id": "blEabGXUQ4ID"
      },
      "source": [
        "# Package might benefit from __init__  :) \n",
        "ts=tsBNgen.tsBNgen.tsBNgen(T,N,N_level,Mat,Node_Type,CPD,Parent,CPD2,Parent2,loopbacks)\n",
        "ts.BN_data_gen() \n",
        "ts.BN_sample()\n"
      ],
      "execution_count": 42,
      "outputs": []
    },
    {
      "cell_type": "code",
      "metadata": {
        "colab": {
          "base_uri": "https://localhost:8080/",
          "height": 283
        },
        "id": "Cp5p0vDWSmXt",
        "outputId": "1aac087f-4093-475a-f43d-d997cee243f3"
      },
      "source": [
        "# It was unclear (to me) in the docs how to extract simulations,\n",
        "# but here's one \n",
        "y = ts.BN_Nodes[1][0]\n",
        "import matplotlib.pyplot as plt\n",
        "plt.plot(y)\n",
        "\n",
        "\n"
      ],
      "execution_count": 43,
      "outputs": [
        {
          "output_type": "execute_result",
          "data": {
            "text/plain": [
              "[<matplotlib.lines.Line2D at 0x7faabc32b710>]"
            ]
          },
          "metadata": {
            "tags": []
          },
          "execution_count": 43
        },
        {
          "output_type": "display_data",
          "data": {
            "image/png": "[encoded data removed]",
            "text/plain": [
              "<Figure size 432x288 with 1 Axes>"
            ]
          },
          "metadata": {
            "tags": [],
            "needs_background": "light"
          }
        }
      ]
    },
    {
      "cell_type": "code",
      "metadata": {
        "id": "7eE4FtUsRzbJ"
      },
      "source": [
        "y"
      ],
      "execution_count": 25,
      "outputs": []
    },
    {
      "cell_type": "markdown",
      "metadata": {
        "id": "Jkk73oqtB25e"
      },
      "source": [
        "For more \"hello world\" examples of time series packages see\n",
        "[listing by downloads](https://www.microprediction.com/blog/popular-timeseries-packages)."
      ]
    }
  ]
}
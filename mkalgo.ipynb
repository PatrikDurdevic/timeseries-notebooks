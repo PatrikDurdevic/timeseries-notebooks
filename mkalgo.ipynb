{
  "nbformat": 4,
  "nbformat_minor": 0,
  "metadata": {
    "colab": {
      "name": "mkalgo.ipynb",
      "provenance": [],
      "authorship_tag": "ABX9TyPOg4zmHgU1sMhSan2AreVP",
      "include_colab_link": true
    },
    "kernelspec": {
      "name": "python3",
      "display_name": "Python 3"
    }
  },
  "cells": [
    {
      "cell_type": "markdown",
      "metadata": {
        "id": "view-in-github",
        "colab_type": "text"
      },
      "source": [
        "<a href=\"https://colab.research.google.com/github/microprediction/timeseries-notebooks/blob/main/mkalgo.ipynb\" target=\"_parent\"><img src=\"https://colab.research.google.com/assets/colab-badge.svg\" alt=\"Open In Colab\"/></a>"
      ]
    },
    {
      "cell_type": "code",
      "metadata": {
        "id": "JNZsFh-09jjV"
      },
      "source": [
        "!pip install --upgrade git+https://github.com/microprediction/mkalgo"
      ],
      "execution_count": null,
      "outputs": []
    },
    {
      "cell_type": "code",
      "metadata": {
        "id": "p5YFaeb4BSqy"
      },
      "source": [
        "from mkalgo.mk import mk_eab\n",
        "from mkalgo.data import hospital\n",
        "from pprint import pprint"
      ],
      "execution_count": 2,
      "outputs": []
    },
    {
      "cell_type": "code",
      "metadata": {
        "colab": {
          "base_uri": "https://localhost:8080/"
        },
        "id": "83dBi1KxD9UV",
        "outputId": "7520eb30-b9aa-4001-ee08-752e0bde86e1"
      },
      "source": [
        "obj = mk_eab(l=5, metric='euclidean')\n",
        "x = hospital()\n",
        "motif_a, motif_b = obj.search(x)\n",
        "pprint(motif_a)\n",
        "pprint(motif_b)"
      ],
      "execution_count": 3,
      "outputs": [
        {
          "output_type": "stream",
          "text": [
            "{'begin': 1000, 'end': 1005, 'motif': [97.0]}\n",
            "{'begin': 535, 'end': 540, 'motif': [98.0, 98.0, 95.0, 95.0, 102.0]}\n"
          ],
          "name": "stdout"
        }
      ]
    }
  ]
}
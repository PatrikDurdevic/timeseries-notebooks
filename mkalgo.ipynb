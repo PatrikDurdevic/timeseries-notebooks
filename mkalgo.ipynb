{
  "nbformat": 4,
  "nbformat_minor": 0,
  "metadata": {
    "colab": {
      "name": "mkalgo.ipynb",
      "provenance": [],
      "authorship_tag": "ABX9TyPpazgQLUqGiHV0+jIkKRBE",
      "include_colab_link": true
    },
    "kernelspec": {
      "name": "python3",
      "display_name": "Python 3"
    }
  },
  "cells": [
    {
      "cell_type": "markdown",
      "metadata": {
        "id": "view-in-github",
        "colab_type": "text"
      },
      "source": [
        "<a href=\"https://colab.research.google.com/github/microprediction/timeseries-notebooks/blob/main/mkalgo.ipynb\" target=\"_parent\"><img src=\"https://colab.research.google.com/assets/colab-badge.svg\" alt=\"Open In Colab\"/></a>"
      ]
    },
    {
      "cell_type": "code",
      "metadata": {
        "id": "JNZsFh-09jjV"
      },
      "source": [
        "!pip install --upgrade git+https://github.com/microprediction/mkalgo"
      ],
      "execution_count": null,
      "outputs": []
    },
    {
      "cell_type": "code",
      "metadata": {
        "id": "p5YFaeb4BSqy"
      },
      "source": [
        "from mkalgo.mk import mk_eab\n",
        "from mkalgo.data import hospital\n",
        "from pprint import pprint\n",
        "import numpy as np "
      ],
      "execution_count": 4,
      "outputs": []
    },
    {
      "cell_type": "markdown",
      "metadata": {
        "id": "pipH83VNL-r8"
      },
      "source": [
        "We create a time series that has near repetition"
      ]
    },
    {
      "cell_type": "code",
      "metadata": {
        "colab": {
          "base_uri": "https://localhost:8080/"
        },
        "id": "83dBi1KxD9UV",
        "outputId": "af1d14dd-4dc3-4e7f-a657-ff8e17f927c5"
      },
      "source": [
        "obj = mk_eab(l=5, metric='euclidean')\n",
        "noise = 0.5 \n",
        "x = [ xi+np.random.randn()*noise for xi in hospital()+hospital()[250:350] ]+list(np.random.rand(50))\n",
        "\n",
        "motif_a, motif_b = obj.search(x)\n",
        "pprint(motif_a)\n",
        "pprint(motif_b)"
      ],
      "execution_count": 7,
      "outputs": [
        {
          "output_type": "stream",
          "text": [
            "{'begin': 1150, 'end': 1155, 'motif': [0.811934968154679]}\n",
            "{'begin': 1120,\n",
            " 'end': 1125,\n",
            " 'motif': [0.8020008839149606,\n",
            "           0.8569743840267707,\n",
            "           0.24625537770193562,\n",
            "           0.6536805233022611,\n",
            "           0.354125818417692]}\n"
          ],
          "name": "stdout"
        }
      ]
    },
    {
      "cell_type": "code",
      "metadata": {
        "colab": {
          "base_uri": "https://localhost:8080/"
        },
        "id": "h2IdiWWtMRsC",
        "outputId": "fcf8b5af-4474-46c2-bef9-6b1b6c0064e3"
      },
      "source": [
        "obj = mk_eab(l=5,r=5, metric='euclidean')\n",
        "motif_a, motif_b = obj.search(x)\n",
        "pprint(motif_a)\n",
        "pprint(motif_b)"
      ],
      "execution_count": 12,
      "outputs": [
        {
          "output_type": "stream",
          "text": [
            "{'begin': 1120,\n",
            " 'end': 1125,\n",
            " 'motif': [0.8020008839149606,\n",
            "           0.8569743840267707,\n",
            "           0.24625537770193562,\n",
            "           0.6536805233022611,\n",
            "           0.354125818417692]}\n",
            "{'begin': 1130,\n",
            " 'end': 1135,\n",
            " 'motif': [0.5393797132905137,\n",
            "           0.5998754509040288,\n",
            "           0.3306586550252789,\n",
            "           0.5529067533783024,\n",
            "           0.31188071404852846]}\n"
          ],
          "name": "stdout"
        }
      ]
    },
    {
      "cell_type": "code",
      "metadata": {
        "id": "Tn3n90bvLkiW"
      },
      "source": [
        "\n"
      ],
      "execution_count": null,
      "outputs": []
    }
  ]
}
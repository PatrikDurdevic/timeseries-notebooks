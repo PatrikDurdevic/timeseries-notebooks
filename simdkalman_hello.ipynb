{
  "nbformat": 4,
  "nbformat_minor": 0,
  "metadata": {
    "colab": {
      "name": "simdkalman_hello.ipynb",
      "provenance": [],
      "authorship_tag": "ABX9TyPfbZHB06h1yhJumXd5UvJc",
      "include_colab_link": true
    },
    "kernelspec": {
      "name": "python3",
      "display_name": "Python 3"
    }
  },
  "cells": [
    {
      "cell_type": "markdown",
      "metadata": {
        "id": "view-in-github",
        "colab_type": "text"
      },
      "source": [
        "<a href=\"https://colab.research.google.com/github/microprediction/timeseries-notebooks/blob/main/simdkalman_hello.ipynb\" target=\"_parent\"><img src=\"https://colab.research.google.com/assets/colab-badge.svg\" alt=\"Open In Colab\"/></a>"
      ]
    },
    {
      "cell_type": "code",
      "metadata": {
        "id": "pxPf4jy3Omj_"
      },
      "source": [
        "!pip install simdkalman"
      ],
      "execution_count": null,
      "outputs": []
    },
    {
      "cell_type": "code",
      "metadata": {
        "id": "-KgmO47lOr3S"
      },
      "source": [
        "!pip install microprediction"
      ],
      "execution_count": null,
      "outputs": []
    },
    {
      "cell_type": "markdown",
      "metadata": {
        "id": "p2bh6KxE88So"
      },
      "source": [
        "# Hello world example\n",
        "See https://www.microprediction.com/blog/popular-timeseries-packages for more packages"
      ]
    },
    {
      "cell_type": "code",
      "metadata": {
        "id": "DUhhIeHhOutZ"
      },
      "source": [
        "from microprediction import MicroReader\n",
        "mr = MicroReader()\n",
        "YS = mr.get_lagged_values(name='emojitracker-twitter-face_with_medical_mask.json')[:200]\n",
        "\n"
      ],
      "execution_count": 3,
      "outputs": []
    },
    {
      "cell_type": "code",
      "metadata": {
        "id": "ODDpGjVDPDwS",
        "colab": {
          "base_uri": "https://localhost:8080/"
        },
        "outputId": "26206c00-b145-40e6-91d3-fa3136c65724"
      },
      "source": [
        "from simdkalman import KalmanFilter\n",
        "import numpy as np \n",
        "def run(ys):\n",
        "  burnin = 100\n",
        "  v = np.var(ys[:burnin])\n",
        "  kf = KalmanFilter(\n",
        "      state_transition=[[1]],             # A\n",
        "      process_noise=np.diag([v]),         # Q\n",
        "      observation_model=np.array([[1]]),  # H\n",
        "      observation_noise=v)                # R\n",
        "  res = kf.compute(ys[:-1],n_test=1,filtered=True)\n",
        "  xs = [ x[0] for x in res.filtered.states.mean ]\n",
        "  return [0] + xs\n",
        "XS = run(YS)\n",
        "len(XS)\n"
      ],
      "execution_count": 4,
      "outputs": [
        {
          "output_type": "execute_result",
          "data": {
            "text/plain": [
              "200"
            ]
          },
          "metadata": {
            "tags": []
          },
          "execution_count": 4
        }
      ]
    },
    {
      "cell_type": "code",
      "metadata": {
        "colab": {
          "base_uri": "https://localhost:8080/",
          "height": 282
        },
        "id": "UsQalSXqS6a4",
        "outputId": "9101487d-7661-4caa-c9c3-cb0733b06d5e"
      },
      "source": [
        "import matplotlib.pyplot as plt\n",
        "plt.plot(YS[125:150],'*b')\n",
        "plt.plot(XS[125:150],'g')\n",
        "plt.legend(['data','prior'])"
      ],
      "execution_count": 5,
      "outputs": [
        {
          "output_type": "execute_result",
          "data": {
            "text/plain": [
              "<matplotlib.legend.Legend at 0x7fd4e5a99400>"
            ]
          },
          "metadata": {
            "tags": []
          },
          "execution_count": 5
        },
        {
          "output_type": "display_data",
          "data": {
            "image/png": "[encoded data removed]",
            "text/plain": [
              "<Figure size 432x288 with 1 Axes>"
            ]
          },
          "metadata": {
            "tags": [],
            "needs_background": "light"
          }
        }
      ]
    }
  ]
}
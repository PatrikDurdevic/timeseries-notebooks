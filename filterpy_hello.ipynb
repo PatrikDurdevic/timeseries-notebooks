{
  "nbformat": 4,
  "nbformat_minor": 0,
  "metadata": {
    "colab": {
      "name": "filterpy_hello.ipynb",
      "provenance": [],
      "authorship_tag": "ABX9TyPDLF4XVLX02M6UnMQaoJjP",
      "include_colab_link": true
    },
    "kernelspec": {
      "name": "python3",
      "display_name": "Python 3"
    }
  },
  "cells": [
    {
      "cell_type": "markdown",
      "metadata": {
        "id": "view-in-github",
        "colab_type": "text"
      },
      "source": [
        "<a href=\"https://colab.research.google.com/github/microprediction/timeseries-notebooks/blob/main/filterpy_hello.ipynb\" target=\"_parent\"><img src=\"https://colab.research.google.com/assets/colab-badge.svg\" alt=\"Open In Colab\"/></a>"
      ]
    },
    {
      "cell_type": "code",
      "metadata": {
        "id": "pxPf4jy3Omj_"
      },
      "source": [
        "!pip install filterpy"
      ],
      "execution_count": null,
      "outputs": []
    },
    {
      "cell_type": "code",
      "metadata": {
        "id": "-KgmO47lOr3S"
      },
      "source": [
        "!pip install microprediction"
      ],
      "execution_count": null,
      "outputs": []
    },
    {
      "cell_type": "markdown",
      "metadata": {
        "id": "p2bh6KxE88So"
      },
      "source": [
        "# Hello world example\n",
        "See https://www.microprediction.com/blog/popular-timeseries-packages for more time series packages"
      ]
    },
    {
      "cell_type": "code",
      "metadata": {
        "id": "DUhhIeHhOutZ"
      },
      "source": [
        "from microprediction import MicroReader\n",
        "mr = MicroReader()\n",
        "YS = mr.get_lagged_values(name='emojitracker-twitter-face_with_medical_mask.json')[:200]"
      ],
      "execution_count": 20,
      "outputs": []
    },
    {
      "cell_type": "code",
      "metadata": {
        "id": "ODDpGjVDPDwS",
        "colab": {
          "base_uri": "https://localhost:8080/"
        },
        "outputId": "25acdd30-c40c-497c-824d-eadc7f267d57"
      },
      "source": [
        "from filterpy.kalman import KalmanFilter\n",
        "from filterpy.common import Q_discrete_white_noise\n",
        "import numpy as np\n",
        "\n",
        "def run(ys):\n",
        "    burnin = 50\n",
        "    kf = KalmanFilter(dim_x=1, dim_z=1)\n",
        "    kf.F = np.array([[1.]])\n",
        "    kf.H = np.array([[1.]])\n",
        "\n",
        "    # \"Fit\" the filter ... library does not seem to provide this functionality\n",
        "    q_var = np.var(ys[:burnin])\n",
        "    kf.Q = np.array([[q_var]])\n",
        "    kf.R = np.array([[q_var]])\n",
        "\n",
        "    x_rest = list()\n",
        "    kf.x = np.array([0])\n",
        "    kf.P *= 10.\n",
        "    ys_test = ys[burnin:]\n",
        "    for y in ys_test[:-1]:\n",
        "        kf.predict()            # Predict does not return a value. Grumble grumble\n",
        "        x_rest.append(kf.x[0])\n",
        "        kf.update([y])\n",
        "\n",
        "    return [0] + list(ys[:burnin]) + x_rest\n",
        "XS = run(YS)\n",
        "len(XS)\n"
      ],
      "execution_count": 23,
      "outputs": [
        {
          "output_type": "execute_result",
          "data": {
            "text/plain": [
              "200"
            ]
          },
          "metadata": {
            "tags": []
          },
          "execution_count": 23
        }
      ]
    },
    {
      "cell_type": "code",
      "metadata": {
        "colab": {
          "base_uri": "https://localhost:8080/",
          "height": 281
        },
        "id": "UsQalSXqS6a4",
        "outputId": "345d3a0d-bae3-448b-fe5c-58e0958735ce"
      },
      "source": [
        "import matplotlib.pyplot as plt\n",
        "plt.plot(YS[125:150],'*b')\n",
        "plt.plot(XS[125:150],'g')\n",
        "plt.legend(['data','prior'])"
      ],
      "execution_count": 24,
      "outputs": [
        {
          "output_type": "execute_result",
          "data": {
            "text/plain": [
              "<matplotlib.legend.Legend at 0x7f3f3072f208>"
            ]
          },
          "metadata": {
            "tags": []
          },
          "execution_count": 24
        },
        {
          "output_type": "display_data",
          "data": {
            "image/png": "[encoded data removed]",
            "text/plain": [
              "<Figure size 432x288 with 1 Axes>"
            ]
          },
          "metadata": {
            "tags": [],
            "needs_background": "light"
          }
        }
      ]
    }
  ]
}
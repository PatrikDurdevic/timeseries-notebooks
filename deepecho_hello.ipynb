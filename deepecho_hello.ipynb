{
  "nbformat": 4,
  "nbformat_minor": 0,
  "metadata": {
    "colab": {
      "name": "deepecho_hello.ipynb",
      "provenance": [],
      "authorship_tag": "ABX9TyMkhbeVDxsIslV6zm7NwHuB",
      "include_colab_link": true
    },
    "kernelspec": {
      "name": "python3",
      "display_name": "Python 3"
    }
  },
  "cells": [
    {
      "cell_type": "markdown",
      "metadata": {
        "id": "view-in-github",
        "colab_type": "text"
      },
      "source": [
        "<a href=\"https://colab.research.google.com/github/microprediction/timeseries-notebooks/blob/main/deepecho_hello.ipynb\" target=\"_parent\"><img src=\"https://colab.research.google.com/assets/colab-badge.svg\" alt=\"Open In Colab\"/></a>"
      ]
    },
    {
      "cell_type": "code",
      "metadata": {
        "id": "XfqYwIQQni35"
      },
      "source": [
        "!pip install deepecho\n",
        "from deepecho import PARModel\n",
        "import numpy as np \n",
        "import matplotlib.pyplot as plt\n",
        "!pip install realdata\n"
      ],
      "execution_count": null,
      "outputs": []
    },
    {
      "cell_type": "markdown",
      "metadata": {
        "id": "73Tpo2a2wtfr"
      },
      "source": [
        "# Demonstration of DeepEcho synthetic time series generation\n",
        "Follows https://pypi.org/project/deepecho/\n",
        "For more \"hello world\" examples of time series packages see\n",
        "[listing by downloads](https://www.microprediction.com/blog/popular-timeseries-packages)."
      ]
    },
    {
      "cell_type": "markdown",
      "metadata": {
        "id": "frbuFXVztnS9"
      },
      "source": [
        "## Get some real world time series\n",
        "Pulls live wriggly time series from [here](https://www.microprediction.org/browse_streams.html)"
      ]
    },
    {
      "cell_type": "code",
      "metadata": {
        "colab": {
          "base_uri": "https://localhost:8080/",
          "height": 299
        },
        "id": "e-Wsi3IBtNlY",
        "outputId": "39d9bcad-bf04-4897-c750-b86470341852"
      },
      "source": [
        "from realdata import get_values\n",
        "num = 0\n",
        "while num<500:\n",
        "    y1 = get_values()\n",
        "    y2 = get_values()\n",
        "    num = min(len(y1),len(y2))\n",
        "    y1 = y1[-num:]\n",
        "    y2 = y2[-num:]\n",
        "\n",
        "plt.plot(range(num),y1,range(num),y2)\n",
        "# Don't like? just run again"
      ],
      "execution_count": 26,
      "outputs": [
        {
          "output_type": "execute_result",
          "data": {
            "text/plain": [
              "[<matplotlib.lines.Line2D at 0x7f62be8d2358>,\n",
              " <matplotlib.lines.Line2D at 0x7f62be8d2470>]"
            ]
          },
          "metadata": {
            "tags": []
          },
          "execution_count": 26
        },
        {
          "output_type": "display_data",
          "data": {
            "image/png": "[encoded data removed]",
            "text/plain": [
              "<Figure size 432x288 with 1 Axes>"
            ]
          },
          "metadata": {
            "tags": [],
            "needs_background": "light"
          }
        }
      ]
    },
    {
      "cell_type": "markdown",
      "metadata": {
        "id": "86BwjsMswoDP"
      },
      "source": [
        "## Massage"
      ]
    },
    {
      "cell_type": "code",
      "metadata": {
        "colab": {
          "base_uri": "https://localhost:8080/",
          "height": 108
        },
        "id": "KLEfK4QVuBIN",
        "outputId": "f16cb9c9-496f-4f29-faac-ca977ced3b68"
      },
      "source": [
        "import pandas as pd\n",
        "df = pd.DataFrame(columns=['day','price','category'])\n",
        "df['price'] = y1 + y2\n",
        "df['category'] = ['dog']*num+['cat']*num\n",
        "df['day'] = list(range(num)) + list(range(num))\n",
        "df[:2]"
      ],
      "execution_count": 27,
      "outputs": [
        {
          "output_type": "execute_result",
          "data": {
            "text/html": [
              "<div>\n",
              "<style scoped>\n",
              "    .dataframe tbody tr th:only-of-type {\n",
              "        vertical-align: middle;\n",
              "    }\n",
              "\n",
              "    .dataframe tbody tr th {\n",
              "        vertical-align: top;\n",
              "    }\n",
              "\n",
              "    .dataframe thead th {\n",
              "        text-align: right;\n",
              "    }\n",
              "</style>\n",
              "<table border=\"1\" class=\"dataframe\">\n",
              "  <thead>\n",
              "    <tr style=\"text-align: right;\">\n",
              "      <th></th>\n",
              "      <th>day</th>\n",
              "      <th>price</th>\n",
              "      <th>category</th>\n",
              "    </tr>\n",
              "  </thead>\n",
              "  <tbody>\n",
              "    <tr>\n",
              "      <th>0</th>\n",
              "      <td>0</td>\n",
              "      <td>911.3140</td>\n",
              "      <td>dog</td>\n",
              "    </tr>\n",
              "    <tr>\n",
              "      <th>1</th>\n",
              "      <td>1</td>\n",
              "      <td>930.9901</td>\n",
              "      <td>dog</td>\n",
              "    </tr>\n",
              "  </tbody>\n",
              "</table>\n",
              "</div>"
            ],
            "text/plain": [
              "   day     price category\n",
              "0    0  911.3140      dog\n",
              "1    1  930.9901      dog"
            ]
          },
          "metadata": {
            "tags": []
          },
          "execution_count": 27
        }
      ]
    },
    {
      "cell_type": "markdown",
      "metadata": {
        "id": "kIS-Ln8_x8e-"
      },
      "source": [
        "## Fit with deepecho"
      ]
    },
    {
      "cell_type": "code",
      "metadata": {
        "colab": {
          "base_uri": "https://localhost:8080/"
        },
        "id": "IbNWjFuWn_L2",
        "outputId": "a582833b-1468-42be-e105-b5746066e415"
      },
      "source": [
        "data_types = {\n",
        "    'price': 'continuous',\n",
        "}\n",
        "model = PARModel(cuda=False)\n",
        "model.fit(\n",
        "    data=df,\n",
        "    entity_columns=['category'],\n",
        "    data_types=data_types,\n",
        "    sequence_index='day'\n",
        ")"
      ],
      "execution_count": 17,
      "outputs": [
        {
          "output_type": "stream",
          "text": [
            "\r  0%|          | 0/128 [00:00<?, ?it/s]"
          ],
          "name": "stderr"
        },
        {
          "output_type": "stream",
          "text": [
            "PARModel(epochs=128, sample_size=1, cuda='cpu', verbose=True) instance created\n"
          ],
          "name": "stdout"
        },
        {
          "output_type": "stream",
          "text": [
            "Epoch 128 | Loss -28.850357055664062: 100%|██████████| 128/128 [01:18<00:00,  1.62it/s]\n"
          ],
          "name": "stderr"
        }
      ]
    },
    {
      "cell_type": "markdown",
      "metadata": {
        "id": "2O4bbqpgyBob"
      },
      "source": [
        "## Then simulate"
      ]
    },
    {
      "cell_type": "code",
      "metadata": {
        "colab": {
          "base_uri": "https://localhost:8080/",
          "height": 665
        },
        "id": "9JyVTP_Nwbjc",
        "outputId": "3fb34afc-7a1e-4246-81ad-9ab0e12a46e9"
      },
      "source": [
        "fake_data = model.sample(num_entities=3)\n",
        "fake_data[:3]"
      ],
      "execution_count": 28,
      "outputs": [
        {
          "output_type": "stream",
          "text": [
            "100%|██████████| 3/3 [00:55<00:00, 18.46s/it]\n"
          ],
          "name": "stderr"
        },
        {
          "output_type": "execute_result",
          "data": {
            "text/html": [
              "<div>\n",
              "<style scoped>\n",
              "    .dataframe tbody tr th:only-of-type {\n",
              "        vertical-align: middle;\n",
              "    }\n",
              "\n",
              "    .dataframe tbody tr th {\n",
              "        vertical-align: top;\n",
              "    }\n",
              "\n",
              "    .dataframe thead th {\n",
              "        text-align: right;\n",
              "    }\n",
              "</style>\n",
              "<table border=\"1\" class=\"dataframe\">\n",
              "  <thead>\n",
              "    <tr style=\"text-align: right;\">\n",
              "      <th></th>\n",
              "      <th>price</th>\n",
              "      <th>category</th>\n",
              "    </tr>\n",
              "  </thead>\n",
              "  <tbody>\n",
              "    <tr>\n",
              "      <th>0</th>\n",
              "      <td>25.454000</td>\n",
              "      <td>0.0</td>\n",
              "    </tr>\n",
              "    <tr>\n",
              "      <th>1</th>\n",
              "      <td>10.017825</td>\n",
              "      <td>0.0</td>\n",
              "    </tr>\n",
              "    <tr>\n",
              "      <th>2</th>\n",
              "      <td>-0.989103</td>\n",
              "      <td>0.0</td>\n",
              "    </tr>\n",
              "    <tr>\n",
              "      <th>3</th>\n",
              "      <td>4.442291</td>\n",
              "      <td>0.0</td>\n",
              "    </tr>\n",
              "    <tr>\n",
              "      <th>4</th>\n",
              "      <td>3.623879</td>\n",
              "      <td>0.0</td>\n",
              "    </tr>\n",
              "    <tr>\n",
              "      <th>5</th>\n",
              "      <td>1.235216</td>\n",
              "      <td>0.0</td>\n",
              "    </tr>\n",
              "    <tr>\n",
              "      <th>6</th>\n",
              "      <td>3.190608</td>\n",
              "      <td>0.0</td>\n",
              "    </tr>\n",
              "    <tr>\n",
              "      <th>7</th>\n",
              "      <td>0.218730</td>\n",
              "      <td>0.0</td>\n",
              "    </tr>\n",
              "    <tr>\n",
              "      <th>8</th>\n",
              "      <td>0.594444</td>\n",
              "      <td>0.0</td>\n",
              "    </tr>\n",
              "    <tr>\n",
              "      <th>9</th>\n",
              "      <td>7.315282</td>\n",
              "      <td>0.0</td>\n",
              "    </tr>\n",
              "    <tr>\n",
              "      <th>10</th>\n",
              "      <td>3.797633</td>\n",
              "      <td>0.0</td>\n",
              "    </tr>\n",
              "    <tr>\n",
              "      <th>11</th>\n",
              "      <td>1.768616</td>\n",
              "      <td>0.0</td>\n",
              "    </tr>\n",
              "    <tr>\n",
              "      <th>12</th>\n",
              "      <td>3.166081</td>\n",
              "      <td>0.0</td>\n",
              "    </tr>\n",
              "    <tr>\n",
              "      <th>13</th>\n",
              "      <td>-0.356114</td>\n",
              "      <td>0.0</td>\n",
              "    </tr>\n",
              "    <tr>\n",
              "      <th>14</th>\n",
              "      <td>-4.260834</td>\n",
              "      <td>0.0</td>\n",
              "    </tr>\n",
              "    <tr>\n",
              "      <th>15</th>\n",
              "      <td>2.745102</td>\n",
              "      <td>0.0</td>\n",
              "    </tr>\n",
              "    <tr>\n",
              "      <th>16</th>\n",
              "      <td>6.149025</td>\n",
              "      <td>0.0</td>\n",
              "    </tr>\n",
              "    <tr>\n",
              "      <th>17</th>\n",
              "      <td>9.807524</td>\n",
              "      <td>0.0</td>\n",
              "    </tr>\n",
              "    <tr>\n",
              "      <th>18</th>\n",
              "      <td>18.976707</td>\n",
              "      <td>0.0</td>\n",
              "    </tr>\n",
              "    <tr>\n",
              "      <th>19</th>\n",
              "      <td>16.762539</td>\n",
              "      <td>0.0</td>\n",
              "    </tr>\n",
              "  </tbody>\n",
              "</table>\n",
              "</div>"
            ],
            "text/plain": [
              "        price  category\n",
              "0   25.454000       0.0\n",
              "1   10.017825       0.0\n",
              "2   -0.989103       0.0\n",
              "3    4.442291       0.0\n",
              "4    3.623879       0.0\n",
              "5    1.235216       0.0\n",
              "6    3.190608       0.0\n",
              "7    0.218730       0.0\n",
              "8    0.594444       0.0\n",
              "9    7.315282       0.0\n",
              "10   3.797633       0.0\n",
              "11   1.768616       0.0\n",
              "12   3.166081       0.0\n",
              "13  -0.356114       0.0\n",
              "14  -4.260834       0.0\n",
              "15   2.745102       0.0\n",
              "16   6.149025       0.0\n",
              "17   9.807524       0.0\n",
              "18  18.976707       0.0\n",
              "19  16.762539       0.0"
            ]
          },
          "metadata": {
            "tags": []
          },
          "execution_count": 28
        }
      ]
    },
    {
      "cell_type": "code",
      "metadata": {
        "colab": {
          "base_uri": "https://localhost:8080/",
          "height": 299
        },
        "id": "yFUVxM4RyiI7",
        "outputId": "6e34a47d-7dff-414f-9174-8bab8946d4d6"
      },
      "source": [
        "fake1 = fake_data[fake_data.category==0].price\n",
        "fake2 = fake_data[fake_data.category==1].price\n",
        "days = list(range(len(fake1)))\n",
        "plt.plot(days,fake1,days,fake2)"
      ],
      "execution_count": 33,
      "outputs": [
        {
          "output_type": "execute_result",
          "data": {
            "text/plain": [
              "[<matplotlib.lines.Line2D at 0x7f62be1e2780>,\n",
              " <matplotlib.lines.Line2D at 0x7f62be1e2908>]"
            ]
          },
          "metadata": {
            "tags": []
          },
          "execution_count": 33
        },
        {
          "output_type": "display_data",
          "data": {
            "image/png": "[encoded data removed]",
            "text/plain": [
              "<Figure size 432x288 with 1 Axes>"
            ]
          },
          "metadata": {
            "tags": [],
            "needs_background": "light"
          }
        }
      ]
    }
  ]
}
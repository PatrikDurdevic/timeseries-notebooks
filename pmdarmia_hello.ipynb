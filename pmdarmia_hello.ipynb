{
  "nbformat": 4,
  "nbformat_minor": 0,
  "metadata": {
    "colab": {
      "name": "pmdarmia_hello.ipynb",
      "provenance": [],
      "authorship_tag": "ABX9TyOSmA4HnlQxw2JQFOAcBg4/",
      "include_colab_link": true
    },
    "kernelspec": {
      "name": "python3",
      "display_name": "Python 3"
    }
  },
  "cells": [
    {
      "cell_type": "markdown",
      "metadata": {
        "id": "view-in-github",
        "colab_type": "text"
      },
      "source": [
        "<a href=\"https://colab.research.google.com/github/microprediction/timeseries-notebooks/blob/main/pmdarmia_hello.ipynb\" target=\"_parent\"><img src=\"https://colab.research.google.com/assets/colab-badge.svg\" alt=\"Open In Colab\"/></a>"
      ]
    },
    {
      "cell_type": "code",
      "metadata": {
        "id": "pxPf4jy3Omj_"
      },
      "source": [
        "!pip install pmdarima"
      ],
      "execution_count": null,
      "outputs": []
    },
    {
      "cell_type": "code",
      "metadata": {
        "id": "-KgmO47lOr3S"
      },
      "source": [
        "!pip install microprediction"
      ],
      "execution_count": null,
      "outputs": []
    },
    {
      "cell_type": "markdown",
      "metadata": {
        "id": "p2bh6KxE88So"
      },
      "source": [
        "### pmdarima hello world\n",
        "See https://www.microprediction.com/blog/popular-timeseries-packages for more packages"
      ]
    },
    {
      "cell_type": "code",
      "metadata": {
        "id": "DUhhIeHhOutZ"
      },
      "source": [
        "from microprediction import MicroReader\n",
        "mr = MicroReader()\n",
        "YS = mr.get_lagged_values(name='emojitracker-twitter-face_with_medical_mask.json')[:20]"
      ],
      "execution_count": 16,
      "outputs": []
    },
    {
      "cell_type": "code",
      "metadata": {
        "id": "1RAcaQYqkvx2"
      },
      "source": [
        ""
      ],
      "execution_count": 5,
      "outputs": []
    },
    {
      "cell_type": "code",
      "metadata": {
        "id": "ODDpGjVDPDwS"
      },
      "source": [
        "import pmdarima as pm \n",
        "def pmdarima_next(ys):\n",
        "   modl = pm.auto_arima(ys, start_p=1, start_q=1, start_P=1, start_Q=1,\n",
        "                     max_p=5, max_q=5, max_P=5, max_Q=5, seasonal=True,\n",
        "                     stepwise=True, suppress_warnings=True, D=10, max_D=10,\n",
        "                     error_action='ignore')\n",
        "   preds, conf_int = modl.predict(n_periods=1, return_conf_int=True)\n",
        "   return preds[0]\n",
        "\n",
        "def run(ys):\n",
        "  \"\"\" Slow, see river package or others if you don't like \"\"\"\n",
        "  burnin = 10\n",
        "  y_hats = list()\n",
        "  for t in range(len(ys)):\n",
        "     if t>burnin:\n",
        "        y_hat = pmdarima_next(ys[:t])\n",
        "     elif t>=1:\n",
        "        y_hat = ys[t-1]\n",
        "     else:\n",
        "        y_hat = 0 \n",
        "     y_hats.append(y_hat)\n",
        "  return y_hats "
      ],
      "execution_count": 17,
      "outputs": []
    },
    {
      "cell_type": "code",
      "metadata": {
        "id": "XmFAcUsWSA0I"
      },
      "source": [
        "XS = run(YS)"
      ],
      "execution_count": 11,
      "outputs": []
    },
    {
      "cell_type": "code",
      "metadata": {
        "colab": {
          "base_uri": "https://localhost:8080/",
          "height": 281
        },
        "id": "UsQalSXqS6a4",
        "outputId": "bdeed27a-cf1c-41bb-9465-dfc79f5ee827"
      },
      "source": [
        "import matplotlib.pyplot as plt\n",
        "plt.plot(YS[:25],'*b')\n",
        "plt.plot(XS[:25],'g')"
      ],
      "execution_count": 18,
      "outputs": [
        {
          "output_type": "execute_result",
          "data": {
            "text/plain": [
              "[<matplotlib.lines.Line2D at 0x7f35812335f8>]"
            ]
          },
          "metadata": {
            "tags": []
          },
          "execution_count": 18
        },
        {
          "output_type": "display_data",
          "data": {
            "image/png": "[encoded data removed]",
            "text/plain": [
              "<Figure size 432x288 with 1 Axes>"
            ]
          },
          "metadata": {
            "tags": [],
            "needs_background": "light"
          }
        }
      ]
    }
  ]
}
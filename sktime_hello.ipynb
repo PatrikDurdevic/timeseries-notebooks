{
  "nbformat": 4,
  "nbformat_minor": 0,
  "metadata": {
    "colab": {
      "name": "sktime_hello.ipynb",
      "provenance": [],
      "authorship_tag": "ABX9TyOgwohtvvm436c2fhBjfC3/",
      "include_colab_link": true
    },
    "kernelspec": {
      "name": "python3",
      "display_name": "Python 3"
    }
  },
  "cells": [
    {
      "cell_type": "markdown",
      "metadata": {
        "id": "view-in-github",
        "colab_type": "text"
      },
      "source": [
        "<a href=\"https://colab.research.google.com/github/microprediction/timeseries-notebooks/blob/main/sktime_hello.ipynb\" target=\"_parent\"><img src=\"https://colab.research.google.com/assets/colab-badge.svg\" alt=\"Open In Colab\"/></a>"
      ]
    },
    {
      "cell_type": "code",
      "metadata": {
        "id": "pxPf4jy3Omj_"
      },
      "source": [
        "!pip install microprediction\n",
        "!pip install sktime"
      ],
      "execution_count": null,
      "outputs": []
    },
    {
      "cell_type": "markdown",
      "metadata": {
        "id": "BY-99MfhovNb"
      },
      "source": [
        "# Using sktime to create rolling predictions\n",
        "First time I've used the library, so apologies if this isn't smooth. \n",
        "\n",
        "1) Data:"
      ]
    },
    {
      "cell_type": "code",
      "metadata": {
        "id": "DUhhIeHhOutZ",
        "colab": {
          "base_uri": "https://localhost:8080/"
        },
        "outputId": "dbdcea05-cef6-4c34-bba0-9fc4f4cb96d9"
      },
      "source": [
        "from microprediction import MicroReader\n",
        "mr = MicroReader()\n",
        "YS = mr.get_lagged_values(name='electricity-lbmp-nyiso-pjm.json')\n",
        "YS[:3]\n"
      ],
      "execution_count": 28,
      "outputs": [
        {
          "output_type": "execute_result",
          "data": {
            "text/plain": [
              "[41.56, 41.57, 41.81]"
            ]
          },
          "metadata": {
            "tags": []
          },
          "execution_count": 28
        }
      ]
    },
    {
      "cell_type": "markdown",
      "metadata": {
        "id": "vDODmwCbo-in"
      },
      "source": [
        "2) One off prediction using sktime"
      ]
    },
    {
      "cell_type": "code",
      "metadata": {
        "id": "i_J82alEik5w"
      },
      "source": [
        "import numpy as np\n",
        "import pandas as pd\n",
        "from sktime.forecasting.naive import NaiveForecaster\n",
        "from sktime.forecasting.theta import ThetaForecaster\n",
        "from sktime.forecasting.base import ForecastingHorizon\n",
        "import datetime "
      ],
      "execution_count": 78,
      "outputs": []
    },
    {
      "cell_type": "code",
      "metadata": {
        "colab": {
          "base_uri": "https://localhost:8080/"
        },
        "id": "bgUhKYnDjOMv",
        "outputId": "5e41dc21-caa7-4100-ce48-1d943bc4509c"
      },
      "source": [
        "y = pd.Series(index=pd.PeriodIndex(pd.date_range(\"2021-01\", periods=len(YS), freq=\"H\")), data=YS)\n",
        "last_t = y.index[-1]\n",
        "next_t = last_t.to_timestamp() + datetime.timedelta(hours=1)\n",
        "forecaster = ThetaForecaster(sp=1)\n",
        "forecaster.fit(y)\n",
        "k = 3  \n",
        "fh = np.arange(1,k)\n",
        "fh = ForecastingHorizon(pd.PeriodIndex(pd.date_range(next_t, periods=k, freq=\"H\")), is_relative=False\n",
        ")\n",
        "y_pred = forecaster.predict(fh)\n",
        "y[-3:]"
      ],
      "execution_count": 79,
      "outputs": [
        {
          "output_type": "execute_result",
          "data": {
            "text/plain": [
              "2021-01-23 11:00    45.68\n",
              "2021-01-23 12:00    48.56\n",
              "2021-01-23 13:00    45.83\n",
              "Freq: H, dtype: float64"
            ]
          },
          "metadata": {
            "tags": []
          },
          "execution_count": 79
        }
      ]
    },
    {
      "cell_type": "markdown",
      "metadata": {
        "id": "uGNUmCQopCmI"
      },
      "source": [
        "3) Rolling prediction using sktime"
      ]
    },
    {
      "cell_type": "code",
      "metadata": {
        "colab": {
          "base_uri": "https://localhost:8080/",
          "height": 283
        },
        "id": "lZ1HYTLPmltr",
        "outputId": "709250f6-5af3-4c75-f2bb-43dd051ee650"
      },
      "source": [
        "y_buffer = list()\n",
        "xs = list()\n",
        "for yst in YS[:50]:\n",
        "  y_buffer.append(yst)\n",
        "  yt = pd.Series(index=pd.PeriodIndex(pd.date_range(\"2021-01\", periods=len(y_buffer), freq=\"H\")), data=y_buffer)\n",
        "  last_t = yt.index[-1]\n",
        "  next_t = last_t.to_timestamp() + datetime.timedelta(hours=1)\n",
        "  fh = ForecastingHorizon(pd.PeriodIndex(pd.date_range(next_t, periods=k, freq=\"H\")), is_relative=False)\n",
        "  x = forecaster.predict(fh)\n",
        "  xs.append(x[0])\n",
        "import matplotlib.pyplot as plt\n",
        "plt.plot(YS[:25],'*b')\n",
        "plt.plot(xs[:25],'g')"
      ],
      "execution_count": 80,
      "outputs": [
        {
          "output_type": "execute_result",
          "data": {
            "text/plain": [
              "[<matplotlib.lines.Line2D at 0x7f4c0b7c2f50>]"
            ]
          },
          "metadata": {
            "tags": []
          },
          "execution_count": 80
        },
        {
          "output_type": "display_data",
          "data": {
            "image/png": "[encoded data removed]",
            "text/plain": [
              "<Figure size 432x288 with 1 Axes>"
            ]
          },
          "metadata": {
            "tags": [],
            "needs_background": "light"
          }
        }
      ]
    },
    {
      "cell_type": "markdown",
      "metadata": {
        "id": "oMIkRKqYpLBA"
      },
      "source": [
        "# Some alternative predictors"
      ]
    },
    {
      "cell_type": "code",
      "metadata": {
        "id": "qKDlzT4JpJ9D"
      },
      "source": [
        "# See https://www.sktime.org/en/latest/estimator_overview.html\n",
        "- Arima\n",
        "- AutoArima\n",
        "- AutoETS\n",
        "- BATS\n",
        "- Croston\n",
        "- ETc "
      ],
      "execution_count": null,
      "outputs": []
    }
  ]
}
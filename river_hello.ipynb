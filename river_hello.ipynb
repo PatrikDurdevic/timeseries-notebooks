{
  "nbformat": 4,
  "nbformat_minor": 0,
  "metadata": {
    "colab": {
      "name": "river_hello.ipynb",
      "provenance": [],
      "authorship_tag": "ABX9TyNdlkZydc96N6m+ehhnItE6",
      "include_colab_link": true
    },
    "kernelspec": {
      "name": "python3",
      "display_name": "Python 3"
    }
  },
  "cells": [
    {
      "cell_type": "markdown",
      "metadata": {
        "id": "view-in-github",
        "colab_type": "text"
      },
      "source": [
        "<a href=\"https://colab.research.google.com/github/microprediction/timeseries-notebooks/blob/main/river_hello.ipynb\" target=\"_parent\"><img src=\"https://colab.research.google.com/assets/colab-badge.svg\" alt=\"Open In Colab\"/></a>"
      ]
    },
    {
      "cell_type": "code",
      "metadata": {
        "id": "pxPf4jy3Omj_"
      },
      "source": [
        "!pip install microprediction\n",
        "!pip install git+https://github.com/online-ml/river --upgrade"
      ],
      "execution_count": null,
      "outputs": []
    },
    {
      "cell_type": "code",
      "metadata": {
        "id": "DUhhIeHhOutZ",
        "outputId": "9dd5e6ab-5f97-4231-fd8d-679a9e3fa169",
        "colab": {
          "base_uri": "https://localhost:8080/"
        }
      },
      "source": [
        "from microprediction import MicroReader\n",
        "mr = MicroReader()\n",
        "YS = mr.get_lagged_values(name='electricity-lbmp-nyiso-pjm.json')\n",
        "YS[:3]"
      ],
      "execution_count": 4,
      "outputs": [
        {
          "output_type": "execute_result",
          "data": {
            "text/plain": [
              "[50.5, 50.71, 40.04]"
            ]
          },
          "metadata": {
            "tags": []
          },
          "execution_count": 4
        }
      ]
    },
    {
      "cell_type": "code",
      "metadata": {
        "id": "1RAcaQYqkvx2"
      },
      "source": [
        "from river import linear_model, optim, preprocessing, time_series"
      ],
      "execution_count": 5,
      "outputs": []
    },
    {
      "cell_type": "code",
      "metadata": {
        "id": "ODDpGjVDPDwS"
      },
      "source": [
        "def run(ys):\n",
        "   model = ( time_series.SNARIMAX( p=0, d=0, q=0, m=1, sp=0,sq=0,\n",
        "             regressor=(\n",
        "                preprocessing.StandardScaler() |\n",
        "                linear_model.LinearRegression(\n",
        "                    intercept_init=110,\n",
        "                     optimizer=optim.SGD(0.01),\n",
        "                 intercept_lr=0.3\n",
        "              )\n",
        "            )\n",
        "      )\n",
        "   )\n",
        "   y_hats = list()\n",
        "   for i,y in enumerate(ys):\n",
        "      if i>0:\n",
        "         y_hat = model.forecast(horizon=1)[0]\n",
        "      else:\n",
        "         y_hat = 0.0 \n",
        "      y_hats.append(y_hat)\n",
        "      model = model.learn_one(x=None,y=y)\n",
        "   return y_hats\n"
      ],
      "execution_count": 6,
      "outputs": []
    },
    {
      "cell_type": "code",
      "metadata": {
        "id": "XmFAcUsWSA0I",
        "outputId": "1637d990-d772-411d-d993-d5b83ed6793a",
        "colab": {
          "base_uri": "https://localhost:8080/"
        }
      },
      "source": [
        "XS = run(YS)\n",
        "XS[:3]"
      ],
      "execution_count": 10,
      "outputs": [
        {
          "output_type": "execute_result",
          "data": {
            "text/plain": [
              "[0.0, 74.30000000000001, 60.14600000000001]"
            ]
          },
          "metadata": {
            "tags": []
          },
          "execution_count": 10
        }
      ]
    },
    {
      "cell_type": "code",
      "metadata": {
        "colab": {
          "base_uri": "https://localhost:8080/",
          "height": 283
        },
        "id": "UsQalSXqS6a4",
        "outputId": "9758ddc4-f27d-4f4a-e040-3a5cfeae298f"
      },
      "source": [
        "import matplotlib.pyplot as plt\n",
        "plt.plot(YS[:25],'*b')\n",
        "plt.plot(XS[:25],'g')"
      ],
      "execution_count": 12,
      "outputs": [
        {
          "output_type": "execute_result",
          "data": {
            "text/plain": [
              "[<matplotlib.lines.Line2D at 0x7f9573f5d350>]"
            ]
          },
          "metadata": {
            "tags": []
          },
          "execution_count": 12
        },
        {
          "output_type": "display_data",
          "data": {
            "image/png": "[encoded data removed]",
            "text/plain": [
              "<Figure size 432x288 with 1 Axes>"
            ]
          },
          "metadata": {
            "tags": [],
            "needs_background": "light"
          }
        }
      ]
    }
  ]
}
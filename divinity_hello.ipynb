{
  "nbformat": 4,
  "nbformat_minor": 0,
  "metadata": {
    "colab": {
      "name": "divinity_hello.ipynb",
      "provenance": [],
      "authorship_tag": "ABX9TyNUcGf8Qa+ZGkZtQNSi0ASd",
      "include_colab_link": true
    },
    "kernelspec": {
      "name": "python3",
      "display_name": "Python 3"
    }
  },
  "cells": [
    {
      "cell_type": "markdown",
      "metadata": {
        "id": "view-in-github",
        "colab_type": "text"
      },
      "source": [
        "<a href=\"https://colab.research.google.com/github/microprediction/timeseries-notebooks/blob/main/divinity_hello.ipynb\" target=\"_parent\"><img src=\"https://colab.research.google.com/assets/colab-badge.svg\" alt=\"Open In Colab\"/></a>"
      ]
    },
    {
      "cell_type": "code",
      "metadata": {
        "id": "pxPf4jy3Omj_"
      },
      "source": [
        "!pip install divinity\n",
        "import logging, sys\n",
        "logging.disable(sys.maxsize)"
      ],
      "execution_count": null,
      "outputs": []
    },
    {
      "cell_type": "code",
      "metadata": {
        "id": "-KgmO47lOr3S"
      },
      "source": [
        "!pip install microprediction"
      ],
      "execution_count": null,
      "outputs": []
    },
    {
      "cell_type": "markdown",
      "metadata": {
        "id": "p2bh6KxE88So"
      },
      "source": [
        "### Hello world example\n",
        "See https://www.microprediction.com/blog/popular-timeseries-packages for more packages"
      ]
    },
    {
      "cell_type": "code",
      "metadata": {
        "id": "DUhhIeHhOutZ"
      },
      "source": [
        "from microprediction import MicroReader\n",
        "mr = MicroReader()\n",
        "YS = mr.get_lagged_values(name='emojitracker-twitter-face_with_medical_mask.json')[:50]"
      ],
      "execution_count": 15,
      "outputs": []
    },
    {
      "cell_type": "code",
      "metadata": {
        "id": "ODDpGjVDPDwS"
      },
      "source": [
        "import divinity as dv\n",
        "import pandas as pd \n",
        "import datetime \n",
        "import numpy as np \n",
        "import warnings\n",
        "warnings.filterwarnings('ignore')\n",
        "\n",
        "def run(ys):\n",
        "  \"\"\" Slow, see river package or others if you don't like \"\"\"\n",
        "  burnin = 100\n",
        "\n",
        "  def next_value(ys):\n",
        "      dfc = dv.divinity(forecast_length=1)\n",
        "      dfc.fit(np.array(ys))\n",
        "      y_hat = dfc.predict()[0]\n",
        "      return y_hat\n",
        "\n",
        "  y_hats = list()\n",
        "  for t in range(len(ys)):\n",
        "      if t > burnin:\n",
        "          y_hat = next_value(ys[:t])\n",
        "      elif t >= 1:\n",
        "          y_hat = ys[t - 1]\n",
        "      else:\n",
        "          y_hat = 0\n",
        "      y_hats.append(y_hat)\n",
        "  return y_hats\n",
        "XS = run(YS)"
      ],
      "execution_count": 16,
      "outputs": []
    },
    {
      "cell_type": "code",
      "metadata": {
        "colab": {
          "base_uri": "https://localhost:8080/",
          "height": 281
        },
        "id": "UsQalSXqS6a4",
        "outputId": "4a16a1dd-eb33-4897-9c5e-231059561127"
      },
      "source": [
        "import matplotlib.pyplot as plt\n",
        "plt.plot(YS[25:],'*b')\n",
        "plt.plot(XS[25:],'g')"
      ],
      "execution_count": 17,
      "outputs": [
        {
          "output_type": "execute_result",
          "data": {
            "text/plain": [
              "[<matplotlib.lines.Line2D at 0x7f351121f9b0>]"
            ]
          },
          "metadata": {
            "tags": []
          },
          "execution_count": 17
        },
        {
          "output_type": "display_data",
          "data": {
            "image/png": "[encoded data removed]",
            "text/plain": [
              "<Figure size 432x288 with 1 Axes>"
            ]
          },
          "metadata": {
            "tags": [],
            "needs_background": "light"
          }
        }
      ]
    }
  ]
}